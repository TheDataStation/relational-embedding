{
 "cells": [
  {
   "cell_type": "code",
   "execution_count": 1,
   "metadata": {},
   "outputs": [],
   "source": [
    "import json\n",
    "import argparse\n",
    "import os\n",
    "import eval_utils as EU\n",
    "import numpy as np\n",
    "import pandas as pd\n",
    "from sklearn.preprocessing import LabelEncoder\n",
    "from sklearn.preprocessing import OneHotEncoder\n",
    "from gensim.models import KeyedVectors\n",
    "\n",
    "%load_ext autoreload\n",
    "%autoreload 2"
   ]
  },
  {
   "cell_type": "code",
   "execution_count": 2,
   "metadata": {},
   "outputs": [],
   "source": [
    "embedding_storage = {\"node2vec\": '../node2vec/emb/', \"ProNE\": '../ProNE/emb/'}\n",
    "\n",
    "with open(\"../embedding_config.json\", \"r\") as jsonfile:\n",
    "    embeddding_config = json.load(jsonfile)\n",
    "num_bins = embeddding_config[\"num_bins\"]\n",
    "test_size = embeddding_config[\"test_size\"]"
   ]
  },
  {
   "cell_type": "code",
   "execution_count": 3,
   "metadata": {},
   "outputs": [],
   "source": [
    "task = \"kraken\"\n",
    "with open(\"../data/data_config.txt\", \"r\") as jsonfile:\n",
    "    data_config = json.load(jsonfile)\n",
    "with open(\"../data/strategies/\" + task + \".txt\", \"r\") as jsonfile:\n",
    "    strategies = json.load(jsonfile)\n",
    "config = data_config[task]\n",
    "location = config[\"location\"]\n",
    "target_file = config[\"target_file\"]\n",
    "location_processed = config[\"location_processed\"]\n",
    "target_column = config[\"target_column\"]"
   ]
  },
  {
   "cell_type": "code",
   "execution_count": 7,
   "metadata": {},
   "outputs": [
    {
     "data": {
      "text/plain": [
       "'base_processed.csv'"
      ]
     },
     "execution_count": 7,
     "metadata": {},
     "output_type": "execute_result"
    }
   ],
   "source": [
    "target_file"
   ]
  },
  {
   "cell_type": "code",
   "execution_count": 4,
   "metadata": {},
   "outputs": [
    {
     "ename": "FileNotFoundError",
     "evalue": "[Errno 2] File b'.././data/kraken/.csv' does not exist: b'.././data/kraken/.csv'",
     "output_type": "error",
     "traceback": [
      "\u001b[0;31m---------------------------------------------------------------------------\u001b[0m",
      "\u001b[0;31mFileNotFoundError\u001b[0m                         Traceback (most recent call last)",
      "\u001b[0;32m<ipython-input-4-a8a626cf2545>\u001b[0m in \u001b[0;36m<module>\u001b[0;34m()\u001b[0m\n\u001b[1;32m      4\u001b[0m full_table = pd.read_csv(os.path.join(\"../\", location + \".csv\"),\n\u001b[1;32m      5\u001b[0m                          \u001b[0msep\u001b[0m\u001b[0;34m=\u001b[0m\u001b[0;34m','\u001b[0m\u001b[0;34m,\u001b[0m\u001b[0;34m\u001b[0m\u001b[0;34m\u001b[0m\u001b[0m\n\u001b[0;32m----> 6\u001b[0;31m                          encoding='latin')\n\u001b[0m\u001b[1;32m      7\u001b[0m \u001b[0;34m\u001b[0m\u001b[0m\n\u001b[1;32m      8\u001b[0m \u001b[0mY\u001b[0m \u001b[0;34m=\u001b[0m \u001b[0msmall_table\u001b[0m\u001b[0;34m[\u001b[0m\u001b[0mtarget_column\u001b[0m\u001b[0;34m[\u001b[0m\u001b[0;36m0\u001b[0m\u001b[0;34m]\u001b[0m\u001b[0;34m]\u001b[0m\u001b[0;34m\u001b[0m\u001b[0;34m\u001b[0m\u001b[0m\n",
      "\u001b[0;32m~/anaconda3/lib/python3.6/site-packages/pandas/io/parsers.py\u001b[0m in \u001b[0;36mparser_f\u001b[0;34m(filepath_or_buffer, sep, delimiter, header, names, index_col, usecols, squeeze, prefix, mangle_dupe_cols, dtype, engine, converters, true_values, false_values, skipinitialspace, skiprows, skipfooter, nrows, na_values, keep_default_na, na_filter, verbose, skip_blank_lines, parse_dates, infer_datetime_format, keep_date_col, date_parser, dayfirst, iterator, chunksize, compression, thousands, decimal, lineterminator, quotechar, quoting, doublequote, escapechar, comment, encoding, dialect, tupleize_cols, error_bad_lines, warn_bad_lines, delim_whitespace, low_memory, memory_map, float_precision)\u001b[0m\n\u001b[1;32m    700\u001b[0m                     skip_blank_lines=skip_blank_lines)\n\u001b[1;32m    701\u001b[0m \u001b[0;34m\u001b[0m\u001b[0m\n\u001b[0;32m--> 702\u001b[0;31m         \u001b[0;32mreturn\u001b[0m \u001b[0m_read\u001b[0m\u001b[0;34m(\u001b[0m\u001b[0mfilepath_or_buffer\u001b[0m\u001b[0;34m,\u001b[0m \u001b[0mkwds\u001b[0m\u001b[0;34m)\u001b[0m\u001b[0;34m\u001b[0m\u001b[0;34m\u001b[0m\u001b[0m\n\u001b[0m\u001b[1;32m    703\u001b[0m \u001b[0;34m\u001b[0m\u001b[0m\n\u001b[1;32m    704\u001b[0m     \u001b[0mparser_f\u001b[0m\u001b[0;34m.\u001b[0m\u001b[0m__name__\u001b[0m \u001b[0;34m=\u001b[0m \u001b[0mname\u001b[0m\u001b[0;34m\u001b[0m\u001b[0;34m\u001b[0m\u001b[0m\n",
      "\u001b[0;32m~/anaconda3/lib/python3.6/site-packages/pandas/io/parsers.py\u001b[0m in \u001b[0;36m_read\u001b[0;34m(filepath_or_buffer, kwds)\u001b[0m\n\u001b[1;32m    427\u001b[0m \u001b[0;34m\u001b[0m\u001b[0m\n\u001b[1;32m    428\u001b[0m     \u001b[0;31m# Create the parser.\u001b[0m\u001b[0;34m\u001b[0m\u001b[0;34m\u001b[0m\u001b[0;34m\u001b[0m\u001b[0m\n\u001b[0;32m--> 429\u001b[0;31m     \u001b[0mparser\u001b[0m \u001b[0;34m=\u001b[0m \u001b[0mTextFileReader\u001b[0m\u001b[0;34m(\u001b[0m\u001b[0mfilepath_or_buffer\u001b[0m\u001b[0;34m,\u001b[0m \u001b[0;34m**\u001b[0m\u001b[0mkwds\u001b[0m\u001b[0;34m)\u001b[0m\u001b[0;34m\u001b[0m\u001b[0;34m\u001b[0m\u001b[0m\n\u001b[0m\u001b[1;32m    430\u001b[0m \u001b[0;34m\u001b[0m\u001b[0m\n\u001b[1;32m    431\u001b[0m     \u001b[0;32mif\u001b[0m \u001b[0mchunksize\u001b[0m \u001b[0;32mor\u001b[0m \u001b[0miterator\u001b[0m\u001b[0;34m:\u001b[0m\u001b[0;34m\u001b[0m\u001b[0;34m\u001b[0m\u001b[0m\n",
      "\u001b[0;32m~/anaconda3/lib/python3.6/site-packages/pandas/io/parsers.py\u001b[0m in \u001b[0;36m__init__\u001b[0;34m(self, f, engine, **kwds)\u001b[0m\n\u001b[1;32m    893\u001b[0m             \u001b[0mself\u001b[0m\u001b[0;34m.\u001b[0m\u001b[0moptions\u001b[0m\u001b[0;34m[\u001b[0m\u001b[0;34m'has_index_names'\u001b[0m\u001b[0;34m]\u001b[0m \u001b[0;34m=\u001b[0m \u001b[0mkwds\u001b[0m\u001b[0;34m[\u001b[0m\u001b[0;34m'has_index_names'\u001b[0m\u001b[0;34m]\u001b[0m\u001b[0;34m\u001b[0m\u001b[0;34m\u001b[0m\u001b[0m\n\u001b[1;32m    894\u001b[0m \u001b[0;34m\u001b[0m\u001b[0m\n\u001b[0;32m--> 895\u001b[0;31m         \u001b[0mself\u001b[0m\u001b[0;34m.\u001b[0m\u001b[0m_make_engine\u001b[0m\u001b[0;34m(\u001b[0m\u001b[0mself\u001b[0m\u001b[0;34m.\u001b[0m\u001b[0mengine\u001b[0m\u001b[0;34m)\u001b[0m\u001b[0;34m\u001b[0m\u001b[0;34m\u001b[0m\u001b[0m\n\u001b[0m\u001b[1;32m    896\u001b[0m \u001b[0;34m\u001b[0m\u001b[0m\n\u001b[1;32m    897\u001b[0m     \u001b[0;32mdef\u001b[0m \u001b[0mclose\u001b[0m\u001b[0;34m(\u001b[0m\u001b[0mself\u001b[0m\u001b[0;34m)\u001b[0m\u001b[0;34m:\u001b[0m\u001b[0;34m\u001b[0m\u001b[0;34m\u001b[0m\u001b[0m\n",
      "\u001b[0;32m~/anaconda3/lib/python3.6/site-packages/pandas/io/parsers.py\u001b[0m in \u001b[0;36m_make_engine\u001b[0;34m(self, engine)\u001b[0m\n\u001b[1;32m   1120\u001b[0m     \u001b[0;32mdef\u001b[0m \u001b[0m_make_engine\u001b[0m\u001b[0;34m(\u001b[0m\u001b[0mself\u001b[0m\u001b[0;34m,\u001b[0m \u001b[0mengine\u001b[0m\u001b[0;34m=\u001b[0m\u001b[0;34m'c'\u001b[0m\u001b[0;34m)\u001b[0m\u001b[0;34m:\u001b[0m\u001b[0;34m\u001b[0m\u001b[0;34m\u001b[0m\u001b[0m\n\u001b[1;32m   1121\u001b[0m         \u001b[0;32mif\u001b[0m \u001b[0mengine\u001b[0m \u001b[0;34m==\u001b[0m \u001b[0;34m'c'\u001b[0m\u001b[0;34m:\u001b[0m\u001b[0;34m\u001b[0m\u001b[0;34m\u001b[0m\u001b[0m\n\u001b[0;32m-> 1122\u001b[0;31m             \u001b[0mself\u001b[0m\u001b[0;34m.\u001b[0m\u001b[0m_engine\u001b[0m \u001b[0;34m=\u001b[0m \u001b[0mCParserWrapper\u001b[0m\u001b[0;34m(\u001b[0m\u001b[0mself\u001b[0m\u001b[0;34m.\u001b[0m\u001b[0mf\u001b[0m\u001b[0;34m,\u001b[0m \u001b[0;34m**\u001b[0m\u001b[0mself\u001b[0m\u001b[0;34m.\u001b[0m\u001b[0moptions\u001b[0m\u001b[0;34m)\u001b[0m\u001b[0;34m\u001b[0m\u001b[0;34m\u001b[0m\u001b[0m\n\u001b[0m\u001b[1;32m   1123\u001b[0m         \u001b[0;32melse\u001b[0m\u001b[0;34m:\u001b[0m\u001b[0;34m\u001b[0m\u001b[0;34m\u001b[0m\u001b[0m\n\u001b[1;32m   1124\u001b[0m             \u001b[0;32mif\u001b[0m \u001b[0mengine\u001b[0m \u001b[0;34m==\u001b[0m \u001b[0;34m'python'\u001b[0m\u001b[0;34m:\u001b[0m\u001b[0;34m\u001b[0m\u001b[0;34m\u001b[0m\u001b[0m\n",
      "\u001b[0;32m~/anaconda3/lib/python3.6/site-packages/pandas/io/parsers.py\u001b[0m in \u001b[0;36m__init__\u001b[0;34m(self, src, **kwds)\u001b[0m\n\u001b[1;32m   1851\u001b[0m         \u001b[0mkwds\u001b[0m\u001b[0;34m[\u001b[0m\u001b[0;34m'usecols'\u001b[0m\u001b[0;34m]\u001b[0m \u001b[0;34m=\u001b[0m \u001b[0mself\u001b[0m\u001b[0;34m.\u001b[0m\u001b[0musecols\u001b[0m\u001b[0;34m\u001b[0m\u001b[0;34m\u001b[0m\u001b[0m\n\u001b[1;32m   1852\u001b[0m \u001b[0;34m\u001b[0m\u001b[0m\n\u001b[0;32m-> 1853\u001b[0;31m         \u001b[0mself\u001b[0m\u001b[0;34m.\u001b[0m\u001b[0m_reader\u001b[0m \u001b[0;34m=\u001b[0m \u001b[0mparsers\u001b[0m\u001b[0;34m.\u001b[0m\u001b[0mTextReader\u001b[0m\u001b[0;34m(\u001b[0m\u001b[0msrc\u001b[0m\u001b[0;34m,\u001b[0m \u001b[0;34m**\u001b[0m\u001b[0mkwds\u001b[0m\u001b[0;34m)\u001b[0m\u001b[0;34m\u001b[0m\u001b[0;34m\u001b[0m\u001b[0m\n\u001b[0m\u001b[1;32m   1854\u001b[0m         \u001b[0mself\u001b[0m\u001b[0;34m.\u001b[0m\u001b[0munnamed_cols\u001b[0m \u001b[0;34m=\u001b[0m \u001b[0mself\u001b[0m\u001b[0;34m.\u001b[0m\u001b[0m_reader\u001b[0m\u001b[0;34m.\u001b[0m\u001b[0munnamed_cols\u001b[0m\u001b[0;34m\u001b[0m\u001b[0;34m\u001b[0m\u001b[0m\n\u001b[1;32m   1855\u001b[0m \u001b[0;34m\u001b[0m\u001b[0m\n",
      "\u001b[0;32mpandas/_libs/parsers.pyx\u001b[0m in \u001b[0;36mpandas._libs.parsers.TextReader.__cinit__\u001b[0;34m()\u001b[0m\n",
      "\u001b[0;32mpandas/_libs/parsers.pyx\u001b[0m in \u001b[0;36mpandas._libs.parsers.TextReader._setup_parser_source\u001b[0;34m()\u001b[0m\n",
      "\u001b[0;31mFileNotFoundError\u001b[0m: [Errno 2] File b'.././data/kraken/.csv' does not exist: b'.././data/kraken/.csv'"
     ]
    }
   ],
   "source": [
    "small_table = pd.read_csv(os.path.join(\"../\", location + target_file),\n",
    "                         sep=',',\n",
    "                         encoding='latin')\n",
    "full_table = pd.read_csv(os.path.join(\"../\", location + \".csv\"),\n",
    "                         sep=',',\n",
    "                         encoding='latin')\n",
    "\n",
    "Y = small_table[target_column[0]]\n",
    "Y = pd.Categorical(Y).codes"
   ]
  },
  {
   "cell_type": "code",
   "execution_count": 6,
   "metadata": {},
   "outputs": [],
   "source": [
    "for col in full_table.columns: \n",
    "    if full_table[col].dtype in [\"str\", \"object\"]:\n",
    "        label_encoder = LabelEncoder()\n",
    "        integer_encoded = label_encoder.fit_transform(full_table[col])\n",
    "        full_table[col] = integer_encoded\n",
    "        print(integer_encoded)\n"
   ]
  },
  {
   "cell_type": "code",
   "execution_count": 7,
   "metadata": {},
   "outputs": [
    {
     "data": {
      "text/html": [
       "<div>\n",
       "<style scoped>\n",
       "    .dataframe tbody tr th:only-of-type {\n",
       "        vertical-align: middle;\n",
       "    }\n",
       "\n",
       "    .dataframe tbody tr th {\n",
       "        vertical-align: top;\n",
       "    }\n",
       "\n",
       "    .dataframe thead th {\n",
       "        text-align: right;\n",
       "    }\n",
       "</style>\n",
       "<table border=\"1\" class=\"dataframe\">\n",
       "  <thead>\n",
       "    <tr style=\"text-align: right;\">\n",
       "      <th></th>\n",
       "      <th>GeneID</th>\n",
       "      <th>Localization</th>\n",
       "    </tr>\n",
       "  </thead>\n",
       "  <tbody>\n",
       "    <tr>\n",
       "      <th>0</th>\n",
       "      <td>G234064</td>\n",
       "      <td>cytoplasm</td>\n",
       "    </tr>\n",
       "    <tr>\n",
       "      <th>1</th>\n",
       "      <td>G234065</td>\n",
       "      <td>cytoplasm</td>\n",
       "    </tr>\n",
       "    <tr>\n",
       "      <th>2</th>\n",
       "      <td>G234070</td>\n",
       "      <td>cytoskeleton</td>\n",
       "    </tr>\n",
       "    <tr>\n",
       "      <th>3</th>\n",
       "      <td>G234073</td>\n",
       "      <td>cytoplasm</td>\n",
       "    </tr>\n",
       "    <tr>\n",
       "      <th>4</th>\n",
       "      <td>G234074</td>\n",
       "      <td>cytoplasm</td>\n",
       "    </tr>\n",
       "    <tr>\n",
       "      <th>...</th>\n",
       "      <td>...</td>\n",
       "      <td>...</td>\n",
       "    </tr>\n",
       "    <tr>\n",
       "      <th>857</th>\n",
       "      <td>G240410</td>\n",
       "      <td>cytoplasm</td>\n",
       "    </tr>\n",
       "    <tr>\n",
       "      <th>858</th>\n",
       "      <td>G240468</td>\n",
       "      <td>cytoplasm</td>\n",
       "    </tr>\n",
       "    <tr>\n",
       "      <th>859</th>\n",
       "      <td>G240490</td>\n",
       "      <td>nucleus</td>\n",
       "    </tr>\n",
       "    <tr>\n",
       "      <th>860</th>\n",
       "      <td>G240494</td>\n",
       "      <td>cytoplasm</td>\n",
       "    </tr>\n",
       "    <tr>\n",
       "      <th>861</th>\n",
       "      <td>G240504</td>\n",
       "      <td>cytoplasm</td>\n",
       "    </tr>\n",
       "  </tbody>\n",
       "</table>\n",
       "<p>862 rows × 2 columns</p>\n",
       "</div>"
      ],
      "text/plain": [
       "      GeneID  Localization\n",
       "0    G234064     cytoplasm\n",
       "1    G234065     cytoplasm\n",
       "2    G234070  cytoskeleton\n",
       "3    G234073     cytoplasm\n",
       "4    G234074     cytoplasm\n",
       "..       ...           ...\n",
       "857  G240410     cytoplasm\n",
       "858  G240468     cytoplasm\n",
       "859  G240490       nucleus\n",
       "860  G240494     cytoplasm\n",
       "861  G240504     cytoplasm\n",
       "\n",
       "[862 rows x 2 columns]"
      ]
     },
     "execution_count": 7,
     "metadata": {},
     "output_type": "execute_result"
    }
   ],
   "source": [
    "small_table"
   ]
  },
  {
   "cell_type": "code",
   "execution_count": 8,
   "metadata": {},
   "outputs": [
    {
     "data": {
      "text/html": [
       "<div>\n",
       "<style scoped>\n",
       "    .dataframe tbody tr th:only-of-type {\n",
       "        vertical-align: middle;\n",
       "    }\n",
       "\n",
       "    .dataframe tbody tr th {\n",
       "        vertical-align: top;\n",
       "    }\n",
       "\n",
       "    .dataframe thead th {\n",
       "        text-align: right;\n",
       "    }\n",
       "</style>\n",
       "<table border=\"1\" class=\"dataframe\">\n",
       "  <thead>\n",
       "    <tr style=\"text-align: right;\">\n",
       "      <th></th>\n",
       "      <th>GeneID</th>\n",
       "      <th>Localization</th>\n",
       "    </tr>\n",
       "  </thead>\n",
       "  <tbody>\n",
       "    <tr>\n",
       "      <th>0</th>\n",
       "      <td>0</td>\n",
       "      <td>cytoplasm</td>\n",
       "    </tr>\n",
       "    <tr>\n",
       "      <th>1</th>\n",
       "      <td>1</td>\n",
       "      <td>cytoplasm</td>\n",
       "    </tr>\n",
       "    <tr>\n",
       "      <th>2</th>\n",
       "      <td>2</td>\n",
       "      <td>cytoskeleton</td>\n",
       "    </tr>\n",
       "    <tr>\n",
       "      <th>3</th>\n",
       "      <td>3</td>\n",
       "      <td>cytoplasm</td>\n",
       "    </tr>\n",
       "    <tr>\n",
       "      <th>4</th>\n",
       "      <td>4</td>\n",
       "      <td>cytoplasm</td>\n",
       "    </tr>\n",
       "    <tr>\n",
       "      <th>...</th>\n",
       "      <td>...</td>\n",
       "      <td>...</td>\n",
       "    </tr>\n",
       "    <tr>\n",
       "      <th>857</th>\n",
       "      <td>857</td>\n",
       "      <td>cytoplasm</td>\n",
       "    </tr>\n",
       "    <tr>\n",
       "      <th>858</th>\n",
       "      <td>858</td>\n",
       "      <td>cytoplasm</td>\n",
       "    </tr>\n",
       "    <tr>\n",
       "      <th>859</th>\n",
       "      <td>859</td>\n",
       "      <td>nucleus</td>\n",
       "    </tr>\n",
       "    <tr>\n",
       "      <th>860</th>\n",
       "      <td>860</td>\n",
       "      <td>cytoplasm</td>\n",
       "    </tr>\n",
       "    <tr>\n",
       "      <th>861</th>\n",
       "      <td>861</td>\n",
       "      <td>cytoplasm</td>\n",
       "    </tr>\n",
       "  </tbody>\n",
       "</table>\n",
       "<p>862 rows × 2 columns</p>\n",
       "</div>"
      ],
      "text/plain": [
       "     GeneID  Localization\n",
       "0         0     cytoplasm\n",
       "1         1     cytoplasm\n",
       "2         2  cytoskeleton\n",
       "3         3     cytoplasm\n",
       "4         4     cytoplasm\n",
       "..      ...           ...\n",
       "857     857     cytoplasm\n",
       "858     858     cytoplasm\n",
       "859     859       nucleus\n",
       "860     860     cytoplasm\n",
       "861     861     cytoplasm\n",
       "\n",
       "[862 rows x 2 columns]"
      ]
     },
     "execution_count": 8,
     "metadata": {},
     "output_type": "execute_result"
    }
   ],
   "source": [
    "label_encoder = LabelEncoder()\n",
    "small_table['GeneID'] = label_encoder.fit_transform(small_table['GeneID'])\n",
    "small_table"
   ]
  },
  {
   "cell_type": "code",
   "execution_count": 9,
   "metadata": {},
   "outputs": [],
   "source": [
    "X = pd.merge(small_table, full_table, left_on = \"GeneID\", right_on = 'GeneID', how = \"left\").drop_duplicates(subset=[\"GeneID\"])"
   ]
  },
  {
   "cell_type": "code",
   "execution_count": 10,
   "metadata": {},
   "outputs": [],
   "source": [
    "X = X.drop(columns=\"Localization\")"
   ]
  },
  {
   "cell_type": "code",
   "execution_count": 11,
   "metadata": {},
   "outputs": [
    {
     "name": "stdout",
     "output_type": "stream",
     "text": [
      "[ 8  1 41 14 13 13 71  1  2  3  6]\n"
     ]
    },
    {
     "data": {
      "text/plain": [
       "array([ 35, 150,  44,   4,   2,  22,   3,   1,  56, 296,   9,  41,  14,\n",
       "        12])"
      ]
     },
     "execution_count": 11,
     "metadata": {},
     "output_type": "execute_result"
    }
   ],
   "source": [
    "from sklearn.model_selection import cross_val_score, train_test_split\n",
    "from sklearn.ensemble import RandomForestClassifier\n",
    "from sklearn.metrics import accuracy_score, confusion_matrix\n",
    "\n",
    "a,b,c,d = train_test_split(X, Y, test_size = 0.2)\n",
    "print(confusion_matrix(d,d).diagonal())\n",
    "confusion_matrix(c,c).diagonal()"
   ]
  },
  {
   "cell_type": "code",
   "execution_count": 12,
   "metadata": {},
   "outputs": [
    {
     "data": {
      "text/plain": [
       "0.4277456647398844"
      ]
     },
     "execution_count": 12,
     "metadata": {},
     "output_type": "execute_result"
    }
   ],
   "source": [
    "74/confusion_matrix(d, d).diagonal().sum()"
   ]
  },
  {
   "cell_type": "code",
   "execution_count": 13,
   "metadata": {},
   "outputs": [
    {
     "data": {
      "text/plain": [
       "0.42380261248185774"
      ]
     },
     "execution_count": 13,
     "metadata": {},
     "output_type": "execute_result"
    }
   ],
   "source": [
    "292/confusion_matrix(c, c).diagonal().sum()"
   ]
  },
  {
   "cell_type": "code",
   "execution_count": 14,
   "metadata": {},
   "outputs": [
    {
     "name": "stderr",
     "output_type": "stream",
     "text": [
      "/home/cc/miniconda3/envs/new-py3-env/lib/python3.6/site-packages/sklearn/model_selection/_split.py:668: UserWarning: The least populated class in y has only 1 members, which is less than n_splits=2.\n",
      "  % (min_groups, self.n_splits)), UserWarning)\n"
     ]
    },
    {
     "name": "stdout",
     "output_type": "stream",
     "text": [
      "Train accuracy 1.0, Test accuracy 0.5953757225433526\n"
     ]
    },
    {
     "name": "stderr",
     "output_type": "stream",
     "text": [
      "/home/cc/miniconda3/envs/new-py3-env/lib/python3.6/site-packages/sklearn/model_selection/_split.py:668: UserWarning: The least populated class in y has only 1 members, which is less than n_splits=2.\n",
      "  % (min_groups, self.n_splits)), UserWarning)\n",
      "/home/cc/miniconda3/envs/new-py3-env/lib/python3.6/site-packages/sklearn/linear_model/_sag.py:329: ConvergenceWarning: The max_iter was reached which means the coef_ did not converge\n",
      "  \"the coef_ did not converge\", ConvergenceWarning)\n",
      "/home/cc/miniconda3/envs/new-py3-env/lib/python3.6/site-packages/sklearn/linear_model/_sag.py:329: ConvergenceWarning: The max_iter was reached which means the coef_ did not converge\n",
      "  \"the coef_ did not converge\", ConvergenceWarning)\n",
      "/home/cc/miniconda3/envs/new-py3-env/lib/python3.6/site-packages/sklearn/linear_model/_sag.py:329: ConvergenceWarning: The max_iter was reached which means the coef_ did not converge\n",
      "  \"the coef_ did not converge\", ConvergenceWarning)\n",
      "/home/cc/miniconda3/envs/new-py3-env/lib/python3.6/site-packages/sklearn/linear_model/_sag.py:329: ConvergenceWarning: The max_iter was reached which means the coef_ did not converge\n",
      "  \"the coef_ did not converge\", ConvergenceWarning)\n",
      "/home/cc/miniconda3/envs/new-py3-env/lib/python3.6/site-packages/sklearn/linear_model/_sag.py:329: ConvergenceWarning: The max_iter was reached which means the coef_ did not converge\n",
      "  \"the coef_ did not converge\", ConvergenceWarning)\n",
      "/home/cc/miniconda3/envs/new-py3-env/lib/python3.6/site-packages/sklearn/linear_model/_sag.py:329: ConvergenceWarning: The max_iter was reached which means the coef_ did not converge\n",
      "  \"the coef_ did not converge\", ConvergenceWarning)\n",
      "/home/cc/miniconda3/envs/new-py3-env/lib/python3.6/site-packages/sklearn/linear_model/_sag.py:329: ConvergenceWarning: The max_iter was reached which means the coef_ did not converge\n",
      "  \"the coef_ did not converge\", ConvergenceWarning)\n",
      "/home/cc/miniconda3/envs/new-py3-env/lib/python3.6/site-packages/sklearn/linear_model/_sag.py:329: ConvergenceWarning: The max_iter was reached which means the coef_ did not converge\n",
      "  \"the coef_ did not converge\", ConvergenceWarning)\n",
      "/home/cc/miniconda3/envs/new-py3-env/lib/python3.6/site-packages/sklearn/linear_model/_sag.py:329: ConvergenceWarning: The max_iter was reached which means the coef_ did not converge\n",
      "  \"the coef_ did not converge\", ConvergenceWarning)\n"
     ]
    },
    {
     "name": "stdout",
     "output_type": "stream",
     "text": [
      "Train accuracy 0.45428156748911463, Test accuracy 0.4393063583815029\n"
     ]
    },
    {
     "data": {
      "image/png": "[encoded data removed]",
      "text/plain": [
       "<Figure size 432x288 with 1 Axes>"
      ]
     },
     "metadata": {
      "needs_background": "light"
     },
     "output_type": "display_data"
    },
    {
     "data": {
      "image/png": "[encoded data removed]",
      "text/plain": [
       "<Figure size 432x288 with 1 Axes>"
      ]
     },
     "metadata": {
      "needs_background": "light"
     },
     "output_type": "display_data"
    },
    {
     "name": "stdout",
     "output_type": "stream",
     "text": [
      "Train accuracy 0.4412191582002903, Test accuracy 0.4161849710982659\n"
     ]
    },
    {
     "data": {
      "text/plain": [
       "(0.4412191582002903, 0.4161849710982659)"
      ]
     },
     "execution_count": 14,
     "metadata": {},
     "output_type": "execute_result"
    },
    {
     "data": {
      "text/plain": [
       "<Figure size 432x288 with 0 Axes>"
      ]
     },
     "metadata": {},
     "output_type": "display_data"
    }
   ],
   "source": [
    "EU.classification_task_rf(a,b,c,d)\n",
    "EU.classification_task_logr(a,b,c,d)\n",
    "EU.classification_task_nn(a,b,c,d)"
   ]
  },
  {
   "cell_type": "code",
   "execution_count": null,
   "metadata": {},
   "outputs": [],
   "source": []
  },
  {
   "cell_type": "code",
   "execution_count": 15,
   "metadata": {},
   "outputs": [],
   "source": [
    "task = \"movielens\"\n",
    "with open(\"../data/data_config.txt\", \"r\") as jsonfile:\n",
    "    data_config = json.load(jsonfile)\n",
    "with open(\"../data/strategies/\" + task + \".txt\", \"r\") as jsonfile:\n",
    "    strategies = json.load(jsonfile)\n",
    "config = data_config[task]\n",
    "location = config[\"location\"]\n",
    "target_file = config[\"target_file\"]\n",
    "location_processed = config[\"location_processed\"]\n",
    "target_column = config[\"target_column\"]"
   ]
  },
  {
   "cell_type": "code",
   "execution_count": 16,
   "metadata": {},
   "outputs": [],
   "source": [
    "small_table = pd.read_csv(os.path.join(\"../\", location + target_file),\n",
    "                         sep=',',\n",
    "                         encoding='latin')\n",
    "full_table = pd.read_csv(os.path.join(\"../\", location + \"users.csv\"),\n",
    "                         sep=',',\n",
    "                         encoding='latin')\n",
    "\n",
    "Y = small_table[target_column[0]]\n",
    "Y = pd.Categorical(Y).codes"
   ]
  },
  {
   "cell_type": "code",
   "execution_count": 17,
   "metadata": {},
   "outputs": [],
   "source": [
    "for col in full_table.columns: \n",
    "    if full_table[col].dtype in [\"str\", \"object\"]:\n",
    "        label_encoder = LabelEncoder()\n",
    "        integer_encoded = label_encoder.fit_transform(full_table[col])\n",
    "        full_table[col] = integer_encoded\n",
    "        print(integer_encoded)\n"
   ]
  },
  {
   "cell_type": "code",
   "execution_count": 32,
   "metadata": {},
   "outputs": [
    {
     "data": {
      "text/plain": [
       "0.7102649006622517"
      ]
     },
     "execution_count": 32,
     "metadata": {},
     "output_type": "execute_result"
    }
   ],
   "source": [
    "1 - 350/(350+858)"
   ]
  },
  {
   "cell_type": "code",
   "execution_count": 29,
   "metadata": {},
   "outputs": [
    {
     "data": {
      "text/html": [
       "<div>\n",
       "<style scoped>\n",
       "    .dataframe tbody tr th:only-of-type {\n",
       "        vertical-align: middle;\n",
       "    }\n",
       "\n",
       "    .dataframe tbody tr th {\n",
       "        vertical-align: top;\n",
       "    }\n",
       "\n",
       "    .dataframe thead th {\n",
       "        text-align: right;\n",
       "    }\n",
       "</style>\n",
       "<table border=\"1\" class=\"dataframe\">\n",
       "  <thead>\n",
       "    <tr style=\"text-align: right;\">\n",
       "      <th></th>\n",
       "      <th>userid</th>\n",
       "      <th>age</th>\n",
       "      <th>occupation</th>\n",
       "    </tr>\n",
       "  </thead>\n",
       "  <tbody>\n",
       "    <tr>\n",
       "      <th>0</th>\n",
       "      <td>1</td>\n",
       "      <td>1</td>\n",
       "      <td>2</td>\n",
       "    </tr>\n",
       "    <tr>\n",
       "      <th>1</th>\n",
       "      <td>51</td>\n",
       "      <td>1</td>\n",
       "      <td>2</td>\n",
       "    </tr>\n",
       "    <tr>\n",
       "      <th>2</th>\n",
       "      <td>75</td>\n",
       "      <td>1</td>\n",
       "      <td>2</td>\n",
       "    </tr>\n",
       "    <tr>\n",
       "      <th>3</th>\n",
       "      <td>86</td>\n",
       "      <td>1</td>\n",
       "      <td>2</td>\n",
       "    </tr>\n",
       "    <tr>\n",
       "      <th>4</th>\n",
       "      <td>99</td>\n",
       "      <td>1</td>\n",
       "      <td>2</td>\n",
       "    </tr>\n",
       "    <tr>\n",
       "      <th>...</th>\n",
       "      <td>...</td>\n",
       "      <td>...</td>\n",
       "      <td>...</td>\n",
       "    </tr>\n",
       "    <tr>\n",
       "      <th>6034</th>\n",
       "      <td>5658</td>\n",
       "      <td>56</td>\n",
       "      <td>5</td>\n",
       "    </tr>\n",
       "    <tr>\n",
       "      <th>6035</th>\n",
       "      <td>5669</td>\n",
       "      <td>56</td>\n",
       "      <td>5</td>\n",
       "    </tr>\n",
       "    <tr>\n",
       "      <th>6036</th>\n",
       "      <td>5703</td>\n",
       "      <td>56</td>\n",
       "      <td>5</td>\n",
       "    </tr>\n",
       "    <tr>\n",
       "      <th>6037</th>\n",
       "      <td>5948</td>\n",
       "      <td>56</td>\n",
       "      <td>5</td>\n",
       "    </tr>\n",
       "    <tr>\n",
       "      <th>6038</th>\n",
       "      <td>5980</td>\n",
       "      <td>56</td>\n",
       "      <td>5</td>\n",
       "    </tr>\n",
       "  </tbody>\n",
       "</table>\n",
       "<p>6039 rows × 3 columns</p>\n",
       "</div>"
      ],
      "text/plain": [
       "      userid  age  occupation\n",
       "0          1    1           2\n",
       "1         51    1           2\n",
       "2         75    1           2\n",
       "3         86    1           2\n",
       "4         99    1           2\n",
       "...      ...  ...         ...\n",
       "6034    5658   56           5\n",
       "6035    5669   56           5\n",
       "6036    5703   56           5\n",
       "6037    5948   56           5\n",
       "6038    5980   56           5\n",
       "\n",
       "[6039 rows x 3 columns]"
      ]
     },
     "execution_count": 29,
     "metadata": {},
     "output_type": "execute_result"
    }
   ],
   "source": [
    "X = small_table.drop(columns=[\"u_gender\"])\n",
    "X"
   ]
  },
  {
   "cell_type": "code",
   "execution_count": 30,
   "metadata": {},
   "outputs": [
    {
     "name": "stdout",
     "output_type": "stream",
     "text": [
      "[350 858]\n"
     ]
    },
    {
     "data": {
      "text/plain": [
       "array([1358, 3473])"
      ]
     },
     "execution_count": 30,
     "metadata": {},
     "output_type": "execute_result"
    }
   ],
   "source": [
    "a,b,c,d = train_test_split(X, Y, test_size = 0.2)\n",
    "print(confusion_matrix(d,d).diagonal())\n",
    "confusion_matrix(c,c).diagonal()"
   ]
  },
  {
   "cell_type": "code",
   "execution_count": 33,
   "metadata": {},
   "outputs": [
    {
     "name": "stdout",
     "output_type": "stream",
     "text": [
      "Train accuracy 0.9987580211136411, Test accuracy 0.640728476821192\n"
     ]
    },
    {
     "name": "stderr",
     "output_type": "stream",
     "text": [
      "/home/cc/miniconda3/envs/new-py3-env/lib/python3.6/site-packages/sklearn/linear_model/_sag.py:329: ConvergenceWarning: The max_iter was reached which means the coef_ did not converge\n",
      "  \"the coef_ did not converge\", ConvergenceWarning)\n",
      "/home/cc/miniconda3/envs/new-py3-env/lib/python3.6/site-packages/sklearn/linear_model/_sag.py:329: ConvergenceWarning: The max_iter was reached which means the coef_ did not converge\n",
      "  \"the coef_ did not converge\", ConvergenceWarning)\n",
      "/home/cc/miniconda3/envs/new-py3-env/lib/python3.6/site-packages/sklearn/linear_model/_sag.py:329: ConvergenceWarning: The max_iter was reached which means the coef_ did not converge\n",
      "  \"the coef_ did not converge\", ConvergenceWarning)\n",
      "/home/cc/miniconda3/envs/new-py3-env/lib/python3.6/site-packages/sklearn/linear_model/_sag.py:329: ConvergenceWarning: The max_iter was reached which means the coef_ did not converge\n",
      "  \"the coef_ did not converge\", ConvergenceWarning)\n",
      "/home/cc/miniconda3/envs/new-py3-env/lib/python3.6/site-packages/sklearn/linear_model/_sag.py:329: ConvergenceWarning: The max_iter was reached which means the coef_ did not converge\n",
      "  \"the coef_ did not converge\", ConvergenceWarning)\n",
      "/home/cc/miniconda3/envs/new-py3-env/lib/python3.6/site-packages/sklearn/linear_model/_sag.py:329: ConvergenceWarning: The max_iter was reached which means the coef_ did not converge\n",
      "  \"the coef_ did not converge\", ConvergenceWarning)\n",
      "/home/cc/miniconda3/envs/new-py3-env/lib/python3.6/site-packages/sklearn/linear_model/_sag.py:329: ConvergenceWarning: The max_iter was reached which means the coef_ did not converge\n",
      "  \"the coef_ did not converge\", ConvergenceWarning)\n",
      "/home/cc/miniconda3/envs/new-py3-env/lib/python3.6/site-packages/sklearn/linear_model/_sag.py:329: ConvergenceWarning: The max_iter was reached which means the coef_ did not converge\n",
      "  \"the coef_ did not converge\", ConvergenceWarning)\n",
      "/home/cc/miniconda3/envs/new-py3-env/lib/python3.6/site-packages/sklearn/linear_model/_sag.py:329: ConvergenceWarning: The max_iter was reached which means the coef_ did not converge\n",
      "  \"the coef_ did not converge\", ConvergenceWarning)\n"
     ]
    },
    {
     "name": "stdout",
     "output_type": "stream",
     "text": [
      "Train accuracy 0.7188987787207618, Test accuracy 0.7102649006622517\n"
     ]
    },
    {
     "data": {
      "image/png": "[encoded data removed]",
      "text/plain": [
       "<Figure size 432x288 with 1 Axes>"
      ]
     },
     "metadata": {
      "needs_background": "light"
     },
     "output_type": "display_data"
    },
    {
     "data": {
      "image/png": "[encoded data removed]",
      "text/plain": [
       "<Figure size 432x288 with 1 Axes>"
      ]
     },
     "metadata": {
      "needs_background": "light"
     },
     "output_type": "display_data"
    },
    {
     "name": "stdout",
     "output_type": "stream",
     "text": [
      "Train accuracy 0.7207617470503002, Test accuracy 0.7110927152317881\n"
     ]
    },
    {
     "data": {
      "text/plain": [
       "(0.7207617470503002, 0.7110927152317881)"
      ]
     },
     "execution_count": 33,
     "metadata": {},
     "output_type": "execute_result"
    },
    {
     "data": {
      "text/plain": [
       "<Figure size 432x288 with 0 Axes>"
      ]
     },
     "metadata": {},
     "output_type": "display_data"
    }
   ],
   "source": [
    "EU.classification_task_rf(a,b,c,d)\n",
    "EU.classification_task_logr(a,b,c,d)\n",
    "EU.classification_task_nn(a,b,c,d)"
   ]
  },
  {
   "cell_type": "code",
   "execution_count": 5,
   "metadata": {},
   "outputs": [],
   "source": [
    "small_table = pd.read_csv(os.path.join(\"../\", location + target_file),\n",
    "                         sep=',',\n",
    "                         encoding='latin')\n",
    "Y = small_table[target_column[0]]\n",
    "Y = pd.Categorical(Y).codes\n",
    "\n",
    "small_table = small_table.drop(columns = [target_column[0]])"
   ]
  },
  {
   "cell_type": "code",
   "execution_count": 6,
   "metadata": {},
   "outputs": [],
   "source": [
    "def all_files_in_path(path, task):\n",
    "    fs = [\n",
    "        join(path, f) for f in listdir(path) if isfile(join(path, f))\n",
    "        and f != \".DS_Store\"\n",
    "    ]\n",
    "    return fs\n",
    "\n",
    "def join_tables_kraken(df):\n",
    "    df_joined = df \n",
    "    fs = all_files_in_path(kraken_path, task)\n",
    "    print(fs)\n",
    "    for f in fs:\n",
    "        if f == '../data/kraken/kraken.csv':\n",
    "            continue \n",
    "        df_new = pd.read_csv(f)\n",
    "        try:\n",
    "            df_joined = pd.merge(df_joined, df_new, left_on = \"event_id\", right_on = \"event_id\", how = \"left\")\n",
    "        except:\n",
    "            print(\"i can't find matching id column in file %s, skip!\" % f)\n",
    "        print(df_joined.shape)\n",
    "    return df_joined "
   ]
  },
  {
   "cell_type": "code",
   "execution_count": 7,
   "metadata": {},
   "outputs": [
    {
     "name": "stdout",
     "output_type": "stream",
     "text": [
      "['../data/kraken/kr_array8.csv', '../data/kraken/kr_array14.csv', '../data/kraken/kr_array28.csv', '../data/kraken/kr_array29.csv', '../data/kraken/kr_array15.csv', '../data/kraken/kr_array9.csv', '../data/kraken/kr_array17.csv', '../data/kraken/kr_array16.csv', '../data/kraken/schema.csv', '../data/kraken/kr_array12.csv', '../data/kraken/kr_array13.csv', '../data/kraken/kr_array11.csv', '../data/kraken/kr_sensor4.csv', '../data/kraken/kr_array10.csv', '../data/kraken/kr_sensor109.csv', '../data/kraken/kr_array1.csv', '../data/kraken/base_processed.csv', '../data/kraken/kr_array21.csv', '../data/kraken/kr_array20.csv', '../data/kraken/kr_array0.csv', '../data/kraken/kr_array2.csv', '../data/kraken/kr_array22.csv', '../data/kraken/kr_array23.csv', '../data/kraken/kr_array3.csv', '../data/kraken/kr_array7.csv', '../data/kraken/kr_array27.csv', '../data/kraken/kr_array26.csv', '../data/kraken/kr_array6.csv', '../data/kraken/kr_array4.csv', '../data/kraken/kraken.csv', '../data/kraken/kr_array18.csv', '../data/kraken/kr_array24.csv', '../data/kraken/kr_array25.csv', '../data/kraken/kr_array19.csv', '../data/kraken/kr_array5.csv']\n",
      "(1000, 10)\n",
      "(1000, 17)\n",
      "(1000, 23)\n",
      "(1000, 29)\n",
      "(1000, 36)\n",
      "(1000, 43)\n",
      "(1000, 50)\n",
      "(1000, 57)\n",
      "i can't find matching id column in file ../data/kraken/schema.csv, skip!\n",
      "(1000, 57)\n",
      "(1000, 64)\n",
      "(1000, 71)\n",
      "(1000, 78)\n",
      "i can't find matching id column in file ../data/kraken/kr_sensor4.csv, skip!\n",
      "(1000, 78)\n",
      "(1000, 85)\n",
      "i can't find matching id column in file ../data/kraken/kr_sensor109.csv, skip!\n",
      "(1000, 85)\n",
      "(1000, 92)\n",
      "(1000, 95)\n",
      "(1000, 101)\n",
      "(1000, 107)\n",
      "(1000, 114)\n",
      "(1000, 121)\n",
      "(1000, 127)\n",
      "(1000, 133)\n",
      "(1000, 140)\n",
      "(1000, 147)\n",
      "(1000, 153)\n",
      "(1000, 159)\n",
      "(1000, 166)\n",
      "(1000, 173)\n",
      "(1000, 179)\n",
      "(1000, 185)\n",
      "(1000, 191)\n",
      "(1000, 197)\n",
      "(1000, 204)\n"
     ]
    }
   ],
   "source": [
    "\n",
    "from os import listdir, walk\n",
    "from os.path import isfile, join\n",
    "kraken_path = \"../data/kraken/\"\n",
    "df = join_tables_kraken(small_table)\n",
    "df = df.drop(columns = ['result'])"
   ]
  },
  {
   "cell_type": "code",
   "execution_count": 16,
   "metadata": {},
   "outputs": [
    {
     "name": "stdout",
     "output_type": "stream",
     "text": [
      "an pred: [1 1 0 1 0 1 1 0 1 0 0 0 1 0 1 1 0 0 0 0 1 1 0 1 1 1 0 1 1 1]\n",
      "my pred: [1 1 0 1 1 1 1 0 1 0 0 0 1 0 1 1 0 0 1 0 1 1 0 1 1 1 1 1 1 1]\n",
      "Train accuracy 1.0, Test accuracy 0.89\n"
     ]
    },
    {
     "data": {
      "text/plain": [
       "(1.0, 0.89)"
      ]
     },
     "execution_count": 16,
     "metadata": {},
     "output_type": "execute_result"
    }
   ],
   "source": [
    "from sklearn.model_selection import cross_val_score, train_test_split\n",
    "X_train, X_test, y_train, y_test = train_test_split(df, Y, test_size = 0.1)\n",
    "EU.classification_task_rf(X_train, X_test, y_train, y_test)"
   ]
  },
  {
   "cell_type": "code",
   "execution_count": 52,
   "metadata": {},
   "outputs": [
    {
     "data": {
      "text/plain": [
       "array(['event_id', 'f4k_x', 'f109k_x', 'a8s0', 'a8s1', 'a8s2', 'a8s3',\n",
       "       'a8s4', 'a8s5', 'a8s6', 'a14s0', 'a14s1', 'a14s2', 'a14s3',\n",
       "       'a14s4', 'a14s5', 'a14s6', 'a28s0', 'a28s1', 'a28s2', 'a28s3',\n",
       "       'a28s4', 'a28s5', 'a29s0', 'a29s1', 'a29s2', 'a29s3', 'a29s4',\n",
       "       'a29s5', 'a15s0', 'a15s1', 'a15s2', 'a15s3', 'a15s4', 'a15s5',\n",
       "       'a15s6', 'a9s0', 'a9s1', 'a9s2', 'a9s3', 'a9s4', 'a9s5', 'a9s6',\n",
       "       'a17s0', 'a17s1', 'a17s2', 'a17s3', 'a17s4', 'a17s5', 'a17s6',\n",
       "       'a16s0', 'a16s1', 'a16s2', 'a16s3', 'a16s4', 'a16s5', 'a16s6',\n",
       "       'a12s0', 'a12s1', 'a12s2', 'a12s3', 'a12s4', 'a12s5', 'a12s6',\n",
       "       'a13s0', 'a13s1', 'a13s2', 'a13s3', 'a13s4', 'a13s5', 'a13s6',\n",
       "       'a11s0', 'a11s1', 'a11s2', 'a11s3', 'a11s4', 'a11s5', 'a11s6',\n",
       "       'a10s0', 'a10s1', 'a10s2', 'a10s3', 'a10s4', 'a10s5', 'a10s6',\n",
       "       'a1s0', 'a1s1', 'a1s2', 'a1s3', 'a1s4', 'a1s5', 'a1s6', 'f4k_y',\n",
       "       'f109k_y', 'result', 'a21s0', 'a21s1', 'a21s2', 'a21s3', 'a21s4',\n",
       "       'a21s5', 'a20s0', 'a20s1', 'a20s2', 'a20s3', 'a20s4', 'a20s5',\n",
       "       'a0s0', 'a0s1', 'a0s2', 'a0s3', 'a0s4', 'a0s5', 'a0s6', 'a2s0',\n",
       "       'a2s1', 'a2s2', 'a2s3', 'a2s4', 'a2s5', 'a2s6', 'a22s0', 'a22s1',\n",
       "       'a22s2', 'a22s3', 'a22s4', 'a22s5', 'a23s0', 'a23s1', 'a23s2',\n",
       "       'a23s3', 'a23s4', 'a23s5', 'a3s0', 'a3s1', 'a3s2', 'a3s3', 'a3s4',\n",
       "       'a3s5', 'a3s6', 'a7s0', 'a7s1', 'a7s2', 'a7s3', 'a7s4', 'a7s5',\n",
       "       'a7s6', 'a27s0', 'a27s1', 'a27s2', 'a27s3', 'a27s4', 'a27s5',\n",
       "       'a26s0', 'a26s1', 'a26s2', 'a26s3', 'a26s4', 'a26s5', 'a6s0',\n",
       "       'a6s1', 'a6s2', 'a6s3', 'a6s4', 'a6s5', 'a6s6', 'a4s0', 'a4s1',\n",
       "       'a4s2', 'a4s3', 'a4s4', 'a4s5', 'a4s6', 'f4k', 'f109k', 'a18s0',\n",
       "       'a18s1', 'a18s2', 'a18s3', 'a18s4', 'a18s5', 'a24s0', 'a24s1',\n",
       "       'a24s2', 'a24s3', 'a24s4', 'a24s5', 'a25s0', 'a25s1', 'a25s2',\n",
       "       'a25s3', 'a25s4', 'a25s5', 'a19s0', 'a19s1', 'a19s2', 'a19s3',\n",
       "       'a19s4', 'a19s5', 'a5s0', 'a5s1', 'a5s2', 'a5s3', 'a5s4', 'a5s5',\n",
       "       'a5s6'], dtype=object)"
      ]
     },
     "execution_count": 52,
     "metadata": {},
     "output_type": "execute_result"
    }
   ],
   "source": [
    "X_test"
   ]
  },
  {
   "cell_type": "code",
   "execution_count": null,
   "metadata": {},
   "outputs": [],
   "source": []
  }
 ],
 "metadata": {
  "kernelspec": {
   "display_name": "Python 3",
   "language": "python",
   "name": "python3"
  },
  "language_info": {
   "codemirror_mode": {
    "name": "ipython",
    "version": 3
   },
   "file_extension": ".py",
   "mimetype": "text/x-python",
   "name": "python",
   "nbconvert_exporter": "python",
   "pygments_lexer": "ipython3",
   "version": "3.6.8"
  }
 },
 "nbformat": 4,
 "nbformat_minor": 5
}
