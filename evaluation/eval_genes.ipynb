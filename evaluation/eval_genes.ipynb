{
 "cells": [
  {
   "cell_type": "code",
   "execution_count": 19,
   "id": "decent-disclaimer",
   "metadata": {},
   "outputs": [],
   "source": [
    "import json\n",
    "import argparse\n",
    "import os\n",
    "import eval_utils as EU\n",
    "import numpy as np\n",
    "import pandas as pd\n",
    "from sklearn.preprocessing import LabelEncoder\n",
    "from sklearn.preprocessing import OneHotEncoder\n",
    "from gensim.models import KeyedVectors"
   ]
  },
  {
   "cell_type": "code",
   "execution_count": null,
   "id": "bizarre-saver",
   "metadata": {},
   "outputs": [],
   "source": [
    "embedding_storage = {\"node2vec\": '../node2vec/emb/', \"ProNE\": '../ProNE/emb/'}\n",
    "\n",
    "with open(\"../embedding_config.json\", \"r\") as jsonfile:\n",
    "    embeddding_config = json.load(jsonfile)\n",
    "num_bins = embeddding_config[\"num_bins\"]\n",
    "test_size = embeddding_config[\"test_size\"]"
   ]
  },
  {
   "cell_type": "code",
   "execution_count": 2,
   "id": "mysterious-sunglasses",
   "metadata": {},
   "outputs": [],
   "source": [
    "task = \"genes\"\n",
    "with open(\"../data/data_config.txt\", \"r\") as jsonfile:\n",
    "    data_config = json.load(jsonfile)\n",
    "with open(\"../data/strategies/\" + task + \".txt\", \"r\") as jsonfile:\n",
    "    strategies = json.load(jsonfile)\n",
    "config = data_config[task]\n",
    "location = config[\"location\"]\n",
    "target_file = config[\"target_file\"]\n",
    "location_processed = config[\"location_processed\"]\n",
    "target_column = config[\"target_column\"]"
   ]
  },
  {
   "cell_type": "code",
   "execution_count": 16,
   "id": "adapted-selection",
   "metadata": {},
   "outputs": [],
   "source": [
    "small_table = pd.read_csv(os.path.join(\"../\", location + target_file),\n",
    "                         sep=',',\n",
    "                         encoding='latin')\n",
    "full_table = pd.read_csv(os.path.join(\"../\", location + \"Genes.csv\"),\n",
    "                         sep=',',\n",
    "                         encoding='latin')\n",
    "\n",
    "Y = small_table[target_column]\n",
    "Y = pd.Categorical(Y).codes"
   ]
  },
  {
   "cell_type": "code",
   "execution_count": 27,
   "id": "increasing-crystal",
   "metadata": {},
   "outputs": [
    {
     "name": "stdout",
     "output_type": "stream",
     "text": [
      "int64\n",
      "int64\n",
      "int64\n",
      "int64\n",
      "int64\n",
      "int64\n",
      "int64\n",
      "int64\n"
     ]
    },
    {
     "ename": "ValueError",
     "evalue": "Length of values (862) does not match length of index (4346)",
     "output_type": "error",
     "traceback": [
      "\u001b[0;31m---------------------------------------------------------------------------\u001b[0m",
      "\u001b[0;31mValueError\u001b[0m                                Traceback (most recent call last)",
      "\u001b[0;32m<ipython-input-27-bc88d4022d69>\u001b[0m in \u001b[0;36m<module>\u001b[0;34m\u001b[0m\n\u001b[1;32m      6\u001b[0m         \u001b[0mfull_table\u001b[0m\u001b[0;34m[\u001b[0m\u001b[0mcol\u001b[0m\u001b[0;34m]\u001b[0m \u001b[0;34m=\u001b[0m \u001b[0minteger_encoded\u001b[0m\u001b[0;34m\u001b[0m\u001b[0;34m\u001b[0m\u001b[0m\n\u001b[1;32m      7\u001b[0m         \u001b[0mprint\u001b[0m\u001b[0;34m(\u001b[0m\u001b[0minteger_encoded\u001b[0m\u001b[0;34m)\u001b[0m\u001b[0;34m\u001b[0m\u001b[0;34m\u001b[0m\u001b[0m\n\u001b[0;32m----> 8\u001b[0;31m \u001b[0mfull_table\u001b[0m\u001b[0;34m[\u001b[0m\u001b[0;34m\"res\"\u001b[0m\u001b[0;34m]\u001b[0m \u001b[0;34m=\u001b[0m \u001b[0mY\u001b[0m\u001b[0;34m\u001b[0m\u001b[0;34m\u001b[0m\u001b[0m\n\u001b[0m",
      "\u001b[0;32m~/miniconda3/envs/new-py3-env/lib/python3.8/site-packages/pandas/core/frame.py\u001b[0m in \u001b[0;36m__setitem__\u001b[0;34m(self, key, value)\u001b[0m\n\u001b[1;32m   3161\u001b[0m         \u001b[0;32melse\u001b[0m\u001b[0;34m:\u001b[0m\u001b[0;34m\u001b[0m\u001b[0;34m\u001b[0m\u001b[0m\n\u001b[1;32m   3162\u001b[0m             \u001b[0;31m# set column\u001b[0m\u001b[0;34m\u001b[0m\u001b[0;34m\u001b[0m\u001b[0;34m\u001b[0m\u001b[0m\n\u001b[0;32m-> 3163\u001b[0;31m             \u001b[0mself\u001b[0m\u001b[0;34m.\u001b[0m\u001b[0m_set_item\u001b[0m\u001b[0;34m(\u001b[0m\u001b[0mkey\u001b[0m\u001b[0;34m,\u001b[0m \u001b[0mvalue\u001b[0m\u001b[0;34m)\u001b[0m\u001b[0;34m\u001b[0m\u001b[0;34m\u001b[0m\u001b[0m\n\u001b[0m\u001b[1;32m   3164\u001b[0m \u001b[0;34m\u001b[0m\u001b[0m\n\u001b[1;32m   3165\u001b[0m     \u001b[0;32mdef\u001b[0m \u001b[0m_setitem_slice\u001b[0m\u001b[0;34m(\u001b[0m\u001b[0mself\u001b[0m\u001b[0;34m,\u001b[0m \u001b[0mkey\u001b[0m\u001b[0;34m:\u001b[0m \u001b[0mslice\u001b[0m\u001b[0;34m,\u001b[0m \u001b[0mvalue\u001b[0m\u001b[0;34m)\u001b[0m\u001b[0;34m:\u001b[0m\u001b[0;34m\u001b[0m\u001b[0;34m\u001b[0m\u001b[0m\n",
      "\u001b[0;32m~/miniconda3/envs/new-py3-env/lib/python3.8/site-packages/pandas/core/frame.py\u001b[0m in \u001b[0;36m_set_item\u001b[0;34m(self, key, value)\u001b[0m\n\u001b[1;32m   3237\u001b[0m         \"\"\"\n\u001b[1;32m   3238\u001b[0m         \u001b[0mself\u001b[0m\u001b[0;34m.\u001b[0m\u001b[0m_ensure_valid_index\u001b[0m\u001b[0;34m(\u001b[0m\u001b[0mvalue\u001b[0m\u001b[0;34m)\u001b[0m\u001b[0;34m\u001b[0m\u001b[0;34m\u001b[0m\u001b[0m\n\u001b[0;32m-> 3239\u001b[0;31m         \u001b[0mvalue\u001b[0m \u001b[0;34m=\u001b[0m \u001b[0mself\u001b[0m\u001b[0;34m.\u001b[0m\u001b[0m_sanitize_column\u001b[0m\u001b[0;34m(\u001b[0m\u001b[0mkey\u001b[0m\u001b[0;34m,\u001b[0m \u001b[0mvalue\u001b[0m\u001b[0;34m)\u001b[0m\u001b[0;34m\u001b[0m\u001b[0;34m\u001b[0m\u001b[0m\n\u001b[0m\u001b[1;32m   3240\u001b[0m         \u001b[0mNDFrame\u001b[0m\u001b[0;34m.\u001b[0m\u001b[0m_set_item\u001b[0m\u001b[0;34m(\u001b[0m\u001b[0mself\u001b[0m\u001b[0;34m,\u001b[0m \u001b[0mkey\u001b[0m\u001b[0;34m,\u001b[0m \u001b[0mvalue\u001b[0m\u001b[0;34m)\u001b[0m\u001b[0;34m\u001b[0m\u001b[0;34m\u001b[0m\u001b[0m\n\u001b[1;32m   3241\u001b[0m \u001b[0;34m\u001b[0m\u001b[0m\n",
      "\u001b[0;32m~/miniconda3/envs/new-py3-env/lib/python3.8/site-packages/pandas/core/frame.py\u001b[0m in \u001b[0;36m_sanitize_column\u001b[0;34m(self, key, value, broadcast)\u001b[0m\n\u001b[1;32m   3894\u001b[0m \u001b[0;34m\u001b[0m\u001b[0m\n\u001b[1;32m   3895\u001b[0m             \u001b[0;31m# turn me into an ndarray\u001b[0m\u001b[0;34m\u001b[0m\u001b[0;34m\u001b[0m\u001b[0;34m\u001b[0m\u001b[0m\n\u001b[0;32m-> 3896\u001b[0;31m             \u001b[0mvalue\u001b[0m \u001b[0;34m=\u001b[0m \u001b[0msanitize_index\u001b[0m\u001b[0;34m(\u001b[0m\u001b[0mvalue\u001b[0m\u001b[0;34m,\u001b[0m \u001b[0mself\u001b[0m\u001b[0;34m.\u001b[0m\u001b[0mindex\u001b[0m\u001b[0;34m)\u001b[0m\u001b[0;34m\u001b[0m\u001b[0;34m\u001b[0m\u001b[0m\n\u001b[0m\u001b[1;32m   3897\u001b[0m             \u001b[0;32mif\u001b[0m \u001b[0;32mnot\u001b[0m \u001b[0misinstance\u001b[0m\u001b[0;34m(\u001b[0m\u001b[0mvalue\u001b[0m\u001b[0;34m,\u001b[0m \u001b[0;34m(\u001b[0m\u001b[0mnp\u001b[0m\u001b[0;34m.\u001b[0m\u001b[0mndarray\u001b[0m\u001b[0;34m,\u001b[0m \u001b[0mIndex\u001b[0m\u001b[0;34m)\u001b[0m\u001b[0;34m)\u001b[0m\u001b[0;34m:\u001b[0m\u001b[0;34m\u001b[0m\u001b[0;34m\u001b[0m\u001b[0m\n\u001b[1;32m   3898\u001b[0m                 \u001b[0;32mif\u001b[0m \u001b[0misinstance\u001b[0m\u001b[0;34m(\u001b[0m\u001b[0mvalue\u001b[0m\u001b[0;34m,\u001b[0m \u001b[0mlist\u001b[0m\u001b[0;34m)\u001b[0m \u001b[0;32mand\u001b[0m \u001b[0mlen\u001b[0m\u001b[0;34m(\u001b[0m\u001b[0mvalue\u001b[0m\u001b[0;34m)\u001b[0m \u001b[0;34m>\u001b[0m \u001b[0;36m0\u001b[0m\u001b[0;34m:\u001b[0m\u001b[0;34m\u001b[0m\u001b[0;34m\u001b[0m\u001b[0m\n",
      "\u001b[0;32m~/miniconda3/envs/new-py3-env/lib/python3.8/site-packages/pandas/core/internals/construction.py\u001b[0m in \u001b[0;36msanitize_index\u001b[0;34m(data, index)\u001b[0m\n\u001b[1;32m    749\u001b[0m     \"\"\"\n\u001b[1;32m    750\u001b[0m     \u001b[0;32mif\u001b[0m \u001b[0mlen\u001b[0m\u001b[0;34m(\u001b[0m\u001b[0mdata\u001b[0m\u001b[0;34m)\u001b[0m \u001b[0;34m!=\u001b[0m \u001b[0mlen\u001b[0m\u001b[0;34m(\u001b[0m\u001b[0mindex\u001b[0m\u001b[0;34m)\u001b[0m\u001b[0;34m:\u001b[0m\u001b[0;34m\u001b[0m\u001b[0;34m\u001b[0m\u001b[0m\n\u001b[0;32m--> 751\u001b[0;31m         raise ValueError(\n\u001b[0m\u001b[1;32m    752\u001b[0m             \u001b[0;34m\"Length of values \"\u001b[0m\u001b[0;34m\u001b[0m\u001b[0;34m\u001b[0m\u001b[0m\n\u001b[1;32m    753\u001b[0m             \u001b[0;34mf\"({len(data)}) \"\u001b[0m\u001b[0;34m\u001b[0m\u001b[0;34m\u001b[0m\u001b[0m\n",
      "\u001b[0;31mValueError\u001b[0m: Length of values (862) does not match length of index (4346)"
     ]
    }
   ],
   "source": [
    "for col in full_table.columns: \n",
    "    print(full_table[col].dtype)\n",
    "    if full_table[col].dtype in [\"str\", \"object\"]:\n",
    "        label_encoder = LabelEncoder()\n",
    "        integer_encoded = label_encoder.fit_transform(full_table[col])\n",
    "        full_table[col] = integer_encoded\n",
    "        print(integer_encoded)\n",
    "full_table[\"res\"] = Y"
   ]
  },
  {
   "cell_type": "code",
   "execution_count": 37,
   "id": "after-weather",
   "metadata": {},
   "outputs": [
    {
     "data": {
      "text/html": [
       "<div>\n",
       "<style scoped>\n",
       "    .dataframe tbody tr th:only-of-type {\n",
       "        vertical-align: middle;\n",
       "    }\n",
       "\n",
       "    .dataframe tbody tr th {\n",
       "        vertical-align: top;\n",
       "    }\n",
       "\n",
       "    .dataframe thead th {\n",
       "        text-align: right;\n",
       "    }\n",
       "</style>\n",
       "<table border=\"1\" class=\"dataframe\">\n",
       "  <thead>\n",
       "    <tr style=\"text-align: right;\">\n",
       "      <th></th>\n",
       "      <th>GeneID</th>\n",
       "      <th>Localization</th>\n",
       "    </tr>\n",
       "  </thead>\n",
       "  <tbody>\n",
       "    <tr>\n",
       "      <th>0</th>\n",
       "      <td>0</td>\n",
       "      <td>cytoplasm</td>\n",
       "    </tr>\n",
       "    <tr>\n",
       "      <th>1</th>\n",
       "      <td>1</td>\n",
       "      <td>cytoplasm</td>\n",
       "    </tr>\n",
       "    <tr>\n",
       "      <th>2</th>\n",
       "      <td>2</td>\n",
       "      <td>cytoskeleton</td>\n",
       "    </tr>\n",
       "    <tr>\n",
       "      <th>3</th>\n",
       "      <td>3</td>\n",
       "      <td>cytoplasm</td>\n",
       "    </tr>\n",
       "    <tr>\n",
       "      <th>4</th>\n",
       "      <td>4</td>\n",
       "      <td>cytoplasm</td>\n",
       "    </tr>\n",
       "    <tr>\n",
       "      <th>...</th>\n",
       "      <td>...</td>\n",
       "      <td>...</td>\n",
       "    </tr>\n",
       "    <tr>\n",
       "      <th>857</th>\n",
       "      <td>857</td>\n",
       "      <td>cytoplasm</td>\n",
       "    </tr>\n",
       "    <tr>\n",
       "      <th>858</th>\n",
       "      <td>858</td>\n",
       "      <td>cytoplasm</td>\n",
       "    </tr>\n",
       "    <tr>\n",
       "      <th>859</th>\n",
       "      <td>859</td>\n",
       "      <td>nucleus</td>\n",
       "    </tr>\n",
       "    <tr>\n",
       "      <th>860</th>\n",
       "      <td>860</td>\n",
       "      <td>cytoplasm</td>\n",
       "    </tr>\n",
       "    <tr>\n",
       "      <th>861</th>\n",
       "      <td>861</td>\n",
       "      <td>cytoplasm</td>\n",
       "    </tr>\n",
       "  </tbody>\n",
       "</table>\n",
       "<p>862 rows × 2 columns</p>\n",
       "</div>"
      ],
      "text/plain": [
       "     GeneID  Localization\n",
       "0         0     cytoplasm\n",
       "1         1     cytoplasm\n",
       "2         2  cytoskeleton\n",
       "3         3     cytoplasm\n",
       "4         4     cytoplasm\n",
       "..      ...           ...\n",
       "857     857     cytoplasm\n",
       "858     858     cytoplasm\n",
       "859     859       nucleus\n",
       "860     860     cytoplasm\n",
       "861     861     cytoplasm\n",
       "\n",
       "[862 rows x 2 columns]"
      ]
     },
     "execution_count": 37,
     "metadata": {},
     "output_type": "execute_result"
    }
   ],
   "source": [
    "label_encoder = LabelEncoder()\n",
    "small_table['GeneID'] = label_encoder.fit_transform(small_table['GeneID'])\n",
    "small_table"
   ]
  },
  {
   "cell_type": "code",
   "execution_count": 43,
   "id": "specified-parish",
   "metadata": {},
   "outputs": [],
   "source": [
    "X = pd.merge(small_table, full_table, left_on = \"GeneID\", right_on = 'GeneID', how = \"left\").drop_duplicates(subset=[\"GeneID\"])"
   ]
  },
  {
   "cell_type": "code",
   "execution_count": 49,
   "id": "ceramic-devon",
   "metadata": {},
   "outputs": [
    {
     "data": {
      "text/plain": [
       "(      GeneID  Essential  Class  Complex  Phenotype  Motif  Chromosome  \\\n",
       " 0          0          2      7       47          0    176           1   \n",
       " 4          1          3      1        1          0      0           1   \n",
       " 12         2          3      1       12          6      4           1   \n",
       " 18         3          3      4       11          3      2           1   \n",
       " 20         4          2      7        1          4    159           1   \n",
       " ...      ...        ...    ...      ...        ...    ...         ...   \n",
       " 4336     857          3      0        1          6      0          11   \n",
       " 4338     858          3      0        1          1      0           7   \n",
       " 4340     859          3      0        1          3      0           4   \n",
       " 4342     860          3      0        1          0     97           4   \n",
       " 4344     861          3      0        1          8    185          12   \n",
       " \n",
       "       Function  \n",
       " 0            4  \n",
       " 4            1  \n",
       " 12           0  \n",
       " 18           0  \n",
       " 20           0  \n",
       " ...        ...  \n",
       " 4336         0  \n",
       " 4338         4  \n",
       " 4340         0  \n",
       " 4342         4  \n",
       " 4344         4  \n",
       " \n",
       " [862 rows x 8 columns],\n",
       " array([ 2,  2,  3,  2,  2, 10,  2, 10, 12, 10,  2, 10,  9, 10,  2, 10, 10,\n",
       "         2, 12,  2,  2, 10,  2, 14, 12, 10, 10,  3, 12, 10, 12, 10, 10, 10,\n",
       "        10,  3, 10, 10, 10, 10,  2, 10, 10, 14, 12, 12,  2,  2, 10, 10,  2,\n",
       "        10, 10, 10, 10, 12, 10, 10, 10,  0,  9,  9, 12,  2, 10, 10,  3, 10,\n",
       "         6, 10, 10, 10,  6, 10,  0,  2, 10,  2,  2,  2, 12, 10,  3,  6,  2,\n",
       "         2, 10, 10, 10, 10, 10, 10, 10, 10, 10, 10, 10, 14, 10, 12,  2, 10,\n",
       "        12,  2, 10, 10, 12,  3, 10,  0,  0, 12, 12, 12, 10, 10, 10, 10, 10,\n",
       "        12, 10, 10,  2, 12, 10, 10, 10,  2, 10,  2, 10, 12,  2,  2, 13, 10,\n",
       "         6,  9, 10, 10, 10, 10, 10,  0, 14, 10, 10, 10,  0,  2, 11,  2,  6,\n",
       "        10, 10,  2, 10,  2,  7, 10,  2, 10, 10,  3,  2, 12,  2, 10, 10,  2,\n",
       "        12,  9, 10,  2, 14, 12, 13,  2,  2,  3, 10, 12, 10,  9,  3, 10,  2,\n",
       "         2,  9,  2, 12,  3, 10, 10,  0,  6, 12, 10, 10,  2, 10, 12,  2,  6,\n",
       "        10, 10, 10, 10, 10, 10, 10,  2, 12, 10, 10, 10, 12, 10,  2,  9, 10,\n",
       "        10, 10, 12, 10,  2, 10, 12, 10,  2,  2,  2, 12,  0,  2, 10,  3, 10,\n",
       "        10, 10,  2,  2,  9, 10, 10, 10, 10,  3,  3, 13,  2, 10,  2,  9,  9,\n",
       "         2,  2, 10,  3,  6, 10,  9, 13,  2, 10,  2, 10,  2, 10, 10,  2, 10,\n",
       "         2, 10, 10,  9,  3, 10, 10, 10,  2,  2, 10,  3, 10,  9, 10,  6, 10,\n",
       "         9, 10,  2,  0, 10, 10, 10, 10, 10, 10, 10, 10, 14,  2,  2,  2, 10,\n",
       "        10, 10,  3,  9, 10,  2, 10, 10, 14,  0,  6, 10, 10,  3, 10, 10,  9,\n",
       "         2, 10, 13, 10, 10, 10, 13,  6, 10, 10, 10,  3, 10, 10, 10,  3, 10,\n",
       "        10,  6, 10, 10,  2,  6, 10,  0,  0,  2,  9,  9,  2,  2, 10,  3,  3,\n",
       "         2, 10,  2, 10, 10,  2, 10, 10, 10,  2,  3, 10, 10,  9, 10, 10,  9,\n",
       "        10,  2,  2, 10, 10, 10, 10,  2,  2, 10,  2, 10, 10,  0,  2, 10, 12,\n",
       "        10,  2, 10,  2,  9, 10, 10,  2, 10, 10,  2,  2, 10, 10, 10, 10,  6,\n",
       "        10, 10,  6,  2, 10,  0, 10,  2, 10,  3, 10,  2, 10,  2,  3,  2, 10,\n",
       "        13,  2,  3,  2, 10, 10, 10, 13, 10,  2,  3, 10, 10, 10,  2,  2, 10,\n",
       "        14,  9,  2,  9, 14, 10,  2, 10, 10, 10, 10, 10,  3, 10,  2, 10,  4,\n",
       "        10, 10, 10, 10, 10,  0,  9,  9,  9,  2,  6,  3,  6,  9,  4,  6,  3,\n",
       "         9,  0, 14, 10, 10, 10, 10, 14,  2, 13, 10, 10,  2, 10,  2, 13, 10,\n",
       "         2, 10, 11,  3, 10, 10,  3,  2, 12,  2,  3, 13, 10, 10,  0, 10,  2,\n",
       "        10, 10,  2, 10,  3, 10, 10, 10,  0, 10, 10, 10,  2,  0, 10, 10, 13,\n",
       "         3, 10,  9,  6, 10, 14, 10,  2,  2, 10,  2, 10, 10,  2,  2,  9, 10,\n",
       "        10,  9,  3,  3, 10, 10, 10,  3,  2, 10, 13, 10,  9, 10, 10, 10,  3,\n",
       "        10, 10,  2,  2, 10, 14,  9,  2,  0,  0, 10, 14, 10,  6,  3,  9, 10,\n",
       "         2,  3, 10, 10,  3,  3,  2, 13,  9, 10,  2, 10,  2, 13, 10,  9, 10,\n",
       "         2,  2,  3,  2,  2,  3, 13,  2, 10,  9,  6,  2, 10,  2,  0,  9, 10,\n",
       "         9,  2,  2, 11,  5, 10,  5, 10,  3,  1,  0,  6,  2,  6,  2, 10, 10,\n",
       "        10,  2,  6, 10,  9,  9, 10,  9, 10, 10, 10,  3,  6,  9, 10, 10, 10,\n",
       "         2, 10, 10,  9,  3,  9,  2,  2,  2, 10,  0, 10,  9, 10, 10, 10,  6,\n",
       "        10, 14, 10, 12,  4, 12, 10,  6,  6, 12, 10,  0, 10,  3, 10,  3,  3,\n",
       "         3, 12, 10, 12, 12, 10,  2,  3,  9,  6,  9,  2,  3,  9, 13,  0,  9,\n",
       "         0,  2, 10,  0,  2,  9, 10,  2, 10, 10,  0,  2,  6,  4,  2,  2,  9,\n",
       "        14, 14, 10,  9, 11,  2,  2, 12,  2,  0,  2, 11,  6,  0,  0,  9, 12,\n",
       "         9,  9, 10, 10, 10,  8,  2, 10,  2, 10,  9,  2,  0, 10, 10,  2, 10,\n",
       "         3, 10,  2, 10,  0, 10,  0, 10, 10,  3,  3, 11, 10,  3, 10, 10,  9,\n",
       "        10, 10, 10, 10,  6, 10, 10,  0,  2,  0,  2,  0,  9, 10,  0,  9,  2,\n",
       "         7,  2,  0, 10, 10, 10,  9, 10, 10, 11,  2, 10, 10, 10,  9, 10,  2,\n",
       "         2,  2,  2,  2,  6,  6,  2, 11,  9,  2, 10, 10, 10,  0, 11,  2,  2,\n",
       "         9, 10,  6, 10,  9,  2, 12, 10,  2,  9, 10,  2, 10,  2,  2,  7, 10,\n",
       "         9, 10,  0,  2,  2, 10, 10, 10,  2, 10, 12, 11,  2,  2,  2,  2, 10,\n",
       "         2, 14, 10,  9, 10,  0,  2,  2,  2, 10,  2,  2], dtype=int8))"
      ]
     },
     "execution_count": 49,
     "metadata": {},
     "output_type": "execute_result"
    }
   ],
   "source": [
    "X.drop(columns=\"Localization\"), Y"
   ]
  },
  {
   "cell_type": "code",
   "execution_count": 69,
   "id": "adequate-margin",
   "metadata": {},
   "outputs": [
    {
     "data": {
      "text/plain": [
       "array([13,  1, 42, 11,  8,  6, 75,  1,  8,  3,  5])"
      ]
     },
     "execution_count": 69,
     "metadata": {},
     "output_type": "execute_result"
    }
   ],
   "source": [
    "from sklearn.model_selection import cross_val_score, train_test_split\n",
    "from sklearn.ensemble import RandomForestClassifier\n",
    "from sklearn.metrics import accuracy_score, confusion_matrix\n",
    "\n",
    "tests = train_test_split(X, Y, test_size = 0.2)\n",
    "confusion_matrix(tests[3], tests[3]).diagonal()"
   ]
  },
  {
   "cell_type": "code",
   "execution_count": 71,
   "id": "quantitative-turkey",
   "metadata": {},
   "outputs": [
    {
     "data": {
      "text/plain": [
       "0.6763005780346821"
      ]
     },
     "execution_count": 71,
     "metadata": {},
     "output_type": "execute_result"
    }
   ],
   "source": [
    "117/confusion_matrix(tests[3], tests[3]).diagonal().sum()"
   ]
  }
 ],
 "metadata": {
  "kernelspec": {
   "display_name": "Python 3",
   "language": "python",
   "name": "python3"
  },
  "language_info": {
   "codemirror_mode": {
    "name": "ipython",
    "version": 3
   },
   "file_extension": ".py",
   "mimetype": "text/x-python",
   "name": "python",
   "nbconvert_exporter": "python",
   "pygments_lexer": "ipython3",
   "version": "3.8.5"
  }
 },
 "nbformat": 4,
 "nbformat_minor": 5
}
