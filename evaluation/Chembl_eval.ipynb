{
 "cells": [
  {
   "cell_type": "code",
   "execution_count": 102,
   "metadata": {
    "collapsed": true
   },
   "outputs": [],
   "source": [
    "import word2vec\n",
    "word2vec_model_path = \"../word2vec/word2vec_neg_20_i50alex.bin\"\n",
    "model = word2vec.load(word2vec_model_path, encoding = \"Latin\")"
   ]
  },
  {
   "cell_type": "code",
   "execution_count": 103,
   "metadata": {},
   "outputs": [
    {
     "data": {
      "text/plain": [
       "10659727"
      ]
     },
     "execution_count": 103,
     "metadata": {},
     "output_type": "execute_result"
    }
   ],
   "source": [
    "model.vocab[:50]\n",
    "len(model.vocab)"
   ]
  },
  {
   "cell_type": "code",
   "execution_count": 106,
   "metadata": {},
   "outputs": [
    {
     "data": {
      "text/plain": [
       "array(['</s>', \"('nm'_'standard_units')\", \"('uo_0000065'_'uo_units')\",\n",
       "       \"('http://www_openphacts_org/units/nanomolar'_'qudt_units')\",\n",
       "       \"('um'_'published_units')\", \"('bao_0000186'_'bao_endpoint')\",\n",
       "       \"('potency'_'standard_type')\", \"('potency'_'published_type')\",\n",
       "       \"('inactive'_'activity_comment')\",\n",
       "       \"('inconclusive'_'activity_comment')\", \"('active'_'status')\",\n",
       "       \"('gi50'_'standard_type')\", \"('bao_0000189'_'bao_endpoint')\",\n",
       "       \"('log_gi50_(m)'_'published_type')\", \"('compound'_'entity_type')\",\n",
       "       \"('ic50'_'standard_type')\", \"('bao_0000190'_'bao_endpoint')\",\n",
       "       \"('small_molecule'_'molecule_type')\", \"('mol'_'structure_type')\",\n",
       "       \"('ic50'_'published_type')\", \"('uo_0000187'_'uo_units')\",\n",
       "       \"('http://qudt_org/vocab/unit#percent'_'qudt_units')\",\n",
       "       \"('assay'_'entity_type')\", \"('bao_0000179'_'bao_endpoint')\",\n",
       "       \"('active'_'activity_comment')\", \"('neutral'_'molecular_species')\",\n",
       "       \"('autocuration'_'curated_by')\", \"('inhibition'_'standard_type')\",\n",
       "       \"('nm'_'published_units')\", \"('activity'_'standard_type')\",\n",
       "       \"('activity'_'published_type')\", \"('ug_ml-1'_'standard_units')\",\n",
       "       \"('uo_0000274'_'uo_units')\",\n",
       "       \"('http://www_openphacts_org/units/microgrampermilliliter'_'qudt_units')\",\n",
       "       \"('bao_0000218'_'bao_format')\", \"('bao_0000201'_'bao_endpoint')\",\n",
       "       \"('ki'_'standard_type')\", \"('bao_0000192'_'bao_endpoint')\",\n",
       "       \"('ug_ml-1'_'published_units')\", \"('inhibition'_'published_type')\",\n",
       "       \"('mic'_'standard_type')\", \"('bao_0002146'_'bao_endpoint')\",\n",
       "       \"('mic'_'published_type')\", \"('not_active'_'activity_comment')\",\n",
       "       \"('ki'_'published_type')\", \"('dose_unit'_'parameter_type')\",\n",
       "       \"('dose'_'parameter_type')\", \"('mg/kg'_'parameter_value')\",\n",
       "       \"('rattus_norvegicus'_'assay_organism')\",\n",
       "       \"('route'_'parameter_type')\"], dtype='<U78')"
      ]
     },
     "execution_count": 106,
     "metadata": {},
     "output_type": "execute_result"
    }
   ],
   "source": [
    "model.vocab[:50]"
   ]
  },
  {
   "cell_type": "code",
   "execution_count": 105,
   "metadata": {},
   "outputs": [],
   "source": [
    "for word in model.vocab:\n",
    "    if \"_'assay_id'\" in word: \n",
    "        print(word)\n",
    "#         break"
   ]
  },
  {
   "cell_type": "code",
   "execution_count": 88,
   "metadata": {},
   "outputs": [
    {
     "data": {
      "text/plain": [
       "array([\"('fig_5'_132)\", \"('fig_9'_133)\",\n",
       "       \"('species:_rattus_norvegicus_homo_sapiens_macaca_fascicularis'_131)\",\n",
       "       \"('species:_rattus_norvegicus_homo_sapiens_macaca_fascicularis'_133)\",\n",
       "       \"('fig_9'_134)\", \"('fig_5'_131)\",\n",
       "       \"('species:_rattus_norvegicus_homo_sapiens_macaca_fascicularis'_130)\",\n",
       "       \"('species:_rattus_norvegicus_homo_sapiens_macaca_fascicularis'_134)\",\n",
       "       \"('fig_5'_130)\",\n",
       "       \"('species:_rattus_norvegicus_homo_sapiens_macaca_fascicularis'_129)\"],\n",
       "      dtype='<U78')"
      ]
     },
     "execution_count": 88,
     "metadata": {},
     "output_type": "execute_result"
    }
   ],
   "source": [
    "indexes, metrcs = model.similar(\"('species:_rattus_norvegicus_homo_sapiens_macaca_fascicularis'_132)\")\n",
    "model.vocab[indexes]"
   ]
  },
  {
   "cell_type": "code",
   "execution_count": 83,
   "metadata": {},
   "outputs": [
    {
     "data": {
      "text/plain": [
       "array([\"('bao_0000190'_11660801)\", \"('uo_0000065'_11660801)\",\n",
       "       \"('cholesterol_(total_change)'_11660802)\", \"('delta_tc'_11660802)\",\n",
       "       \"('bao_0000179'_11660802)\", \"('ic50'_11660801)\",\n",
       "       \"('uo_0000187'_11660802)\",\n",
       "       \"('http://qudt_org/vocab/unit#percent'_11660802)\",\n",
       "       \"('nm'_11660801)\", \"('um'_11660801)\"], dtype='<U78')"
      ]
     },
     "execution_count": 83,
     "metadata": {},
     "output_type": "execute_result"
    }
   ],
   "source": [
    "indexes, metrcs = model.similar(\"('http://www_openphacts_org/units/nanomolar'_11660801)\")\n",
    "model.vocab[indexes]"
   ]
  },
  {
   "cell_type": "code",
   "execution_count": 47,
   "metadata": {},
   "outputs": [
    {
     "data": {
      "text/plain": [
       "array([\"('homo_sapiens'_'assay_organism')\",\n",
       "       \"('zeuzera_pyrina'_'assay_organism')\",\n",
       "       \"('oryzias_latipes'_'assay_organism')\",\n",
       "       \"('staphylococcus_aureus'_'assay_organism')\",\n",
       "       \"('fusarium_oxysporum_f_sp_niveum'_'assay_organism')\",\n",
       "       \"('mycoplasma_gallisepticum'_'assay_organism')\",\n",
       "       \"('rattus_norvegicus'_'assay_organism')\",\n",
       "       \"('equine_infectious_anemia_virus'_'assay_organism')\",\n",
       "       \"('synechococcus'_'assay_organism')\",\n",
       "       \"('aspergillus'_'assay_organism')\"], dtype='<U78')"
      ]
     },
     "execution_count": 47,
     "metadata": {},
     "output_type": "execute_result"
    }
   ],
   "source": [
    "indexes, metrics = model.similar(\"('mus_musculus'_'assay_organism')\")\n",
    "model.vocab[indexes]"
   ]
  },
  {
   "cell_type": "code",
   "execution_count": 57,
   "metadata": {},
   "outputs": [
    {
     "ename": "KeyError",
     "evalue": "\"('bao_0000218'_0)\"",
     "output_type": "error",
     "traceback": [
      "\u001b[0;31m---------------------------------------------------------------------------\u001b[0m",
      "\u001b[0;31mKeyError\u001b[0m                                  Traceback (most recent call last)",
      "\u001b[0;32m<ipython-input-57-665d0437affe>\u001b[0m in \u001b[0;36m<module>\u001b[0;34m()\u001b[0m\n\u001b[0;32m----> 1\u001b[0;31m \u001b[0mindexes\u001b[0m\u001b[0;34m,\u001b[0m \u001b[0mmetrics\u001b[0m \u001b[0;34m=\u001b[0m \u001b[0mmodel\u001b[0m\u001b[0;34m.\u001b[0m\u001b[0msimilar\u001b[0m\u001b[0;34m(\u001b[0m\u001b[0;34m\"('bao_0000218'_0)\"\u001b[0m\u001b[0;34m)\u001b[0m\u001b[0;34m\u001b[0m\u001b[0m\n\u001b[0m\u001b[1;32m      2\u001b[0m \u001b[0mmodel\u001b[0m\u001b[0;34m.\u001b[0m\u001b[0mvocab\u001b[0m\u001b[0;34m[\u001b[0m\u001b[0mindexes\u001b[0m\u001b[0;34m]\u001b[0m\u001b[0;34m\u001b[0m\u001b[0m\n",
      "\u001b[0;32m~/anaconda3/lib/python3.6/site-packages/word2vec/wordvectors.py\u001b[0m in \u001b[0;36msimilar\u001b[0;34m(self, word, n, metric)\u001b[0m\n\u001b[1;32m    122\u001b[0m             \u001b[0;36m2.\u001b[0m \u001b[0mcosine\u001b[0m \u001b[0msimilarity\u001b[0m\u001b[0;34m\u001b[0m\u001b[0m\n\u001b[1;32m    123\u001b[0m         \"\"\"\n\u001b[0;32m--> 124\u001b[0;31m         \u001b[0;32mreturn\u001b[0m \u001b[0mself\u001b[0m\u001b[0;34m.\u001b[0m\u001b[0mclosest\u001b[0m\u001b[0;34m(\u001b[0m\u001b[0mself\u001b[0m\u001b[0;34m[\u001b[0m\u001b[0mword\u001b[0m\u001b[0;34m]\u001b[0m\u001b[0;34m,\u001b[0m \u001b[0mn\u001b[0m\u001b[0;34m=\u001b[0m\u001b[0mn\u001b[0m\u001b[0;34m,\u001b[0m \u001b[0mmetric\u001b[0m\u001b[0;34m=\u001b[0m\u001b[0mmetric\u001b[0m\u001b[0;34m)\u001b[0m\u001b[0;34m\u001b[0m\u001b[0m\n\u001b[0m\u001b[1;32m    125\u001b[0m \u001b[0;34m\u001b[0m\u001b[0m\n\u001b[1;32m    126\u001b[0m     \u001b[0;32mdef\u001b[0m \u001b[0manalogy\u001b[0m\u001b[0;34m(\u001b[0m\u001b[0mself\u001b[0m\u001b[0;34m,\u001b[0m \u001b[0mpos\u001b[0m\u001b[0;34m,\u001b[0m \u001b[0mneg\u001b[0m\u001b[0;34m,\u001b[0m \u001b[0mn\u001b[0m\u001b[0;34m=\u001b[0m\u001b[0;36m10\u001b[0m\u001b[0;34m,\u001b[0m \u001b[0mmetric\u001b[0m\u001b[0;34m=\u001b[0m\u001b[0;34m\"cosine\"\u001b[0m\u001b[0;34m)\u001b[0m\u001b[0;34m:\u001b[0m\u001b[0;34m\u001b[0m\u001b[0m\n",
      "\u001b[0;32m~/anaconda3/lib/python3.6/site-packages/word2vec/wordvectors.py\u001b[0m in \u001b[0;36m__getitem__\u001b[0;34m(self, word)\u001b[0m\n\u001b[1;32m     55\u001b[0m \u001b[0;34m\u001b[0m\u001b[0m\n\u001b[1;32m     56\u001b[0m     \u001b[0;32mdef\u001b[0m \u001b[0m__getitem__\u001b[0m\u001b[0;34m(\u001b[0m\u001b[0mself\u001b[0m\u001b[0;34m,\u001b[0m \u001b[0mword\u001b[0m\u001b[0;34m)\u001b[0m\u001b[0;34m:\u001b[0m\u001b[0;34m\u001b[0m\u001b[0m\n\u001b[0;32m---> 57\u001b[0;31m         \u001b[0;32mreturn\u001b[0m \u001b[0mself\u001b[0m\u001b[0;34m.\u001b[0m\u001b[0mget_vector\u001b[0m\u001b[0;34m(\u001b[0m\u001b[0mword\u001b[0m\u001b[0;34m)\u001b[0m\u001b[0;34m\u001b[0m\u001b[0m\n\u001b[0m\u001b[1;32m     58\u001b[0m \u001b[0;34m\u001b[0m\u001b[0m\n\u001b[1;32m     59\u001b[0m     \u001b[0;32mdef\u001b[0m \u001b[0m__contains__\u001b[0m\u001b[0;34m(\u001b[0m\u001b[0mself\u001b[0m\u001b[0;34m,\u001b[0m \u001b[0mword\u001b[0m\u001b[0;34m)\u001b[0m\u001b[0;34m:\u001b[0m\u001b[0;34m\u001b[0m\u001b[0m\n",
      "\u001b[0;32m~/anaconda3/lib/python3.6/site-packages/word2vec/wordvectors.py\u001b[0m in \u001b[0;36mget_vector\u001b[0;34m(self, word)\u001b[0m\n\u001b[1;32m     64\u001b[0m         \u001b[0mReturns\u001b[0m \u001b[0mthe\u001b[0m \u001b[0mvector\u001b[0m \u001b[0;32mfor\u001b[0m \u001b[0ma\u001b[0m\u001b[0;31m \u001b[0m\u001b[0;31m`\u001b[0m\u001b[0mword\u001b[0m\u001b[0;31m`\u001b[0m \u001b[0;32min\u001b[0m \u001b[0mthe\u001b[0m \u001b[0mvocabulary\u001b[0m\u001b[0;34m\u001b[0m\u001b[0m\n\u001b[1;32m     65\u001b[0m         \"\"\"\n\u001b[0;32m---> 66\u001b[0;31m         \u001b[0;32mreturn\u001b[0m \u001b[0mself\u001b[0m\u001b[0;34m.\u001b[0m\u001b[0mvectors\u001b[0m\u001b[0;34m[\u001b[0m\u001b[0mself\u001b[0m\u001b[0;34m.\u001b[0m\u001b[0mix\u001b[0m\u001b[0;34m(\u001b[0m\u001b[0mword\u001b[0m\u001b[0;34m)\u001b[0m\u001b[0;34m]\u001b[0m\u001b[0;34m\u001b[0m\u001b[0m\n\u001b[0m\u001b[1;32m     67\u001b[0m \u001b[0;34m\u001b[0m\u001b[0m\n\u001b[1;32m     68\u001b[0m     \u001b[0;32mdef\u001b[0m \u001b[0mdistance\u001b[0m\u001b[0;34m(\u001b[0m\u001b[0mself\u001b[0m\u001b[0;34m,\u001b[0m \u001b[0;34m*\u001b[0m\u001b[0margs\u001b[0m\u001b[0;34m,\u001b[0m \u001b[0;34m**\u001b[0m\u001b[0mkwargs\u001b[0m\u001b[0;34m)\u001b[0m\u001b[0;34m:\u001b[0m\u001b[0;34m\u001b[0m\u001b[0m\n",
      "\u001b[0;32m~/anaconda3/lib/python3.6/site-packages/word2vec/wordvectors.py\u001b[0m in \u001b[0;36mix\u001b[0;34m(self, word)\u001b[0m\n\u001b[1;32m     37\u001b[0m         \u001b[0mReturns\u001b[0m \u001b[0mthe\u001b[0m \u001b[0mindex\u001b[0m \u001b[0mon\u001b[0m\u001b[0;31m \u001b[0m\u001b[0;31m`\u001b[0m\u001b[0mself\u001b[0m\u001b[0;34m.\u001b[0m\u001b[0mvocab\u001b[0m\u001b[0;31m`\u001b[0m \u001b[0;32mand\u001b[0m\u001b[0;31m \u001b[0m\u001b[0;31m`\u001b[0m\u001b[0mself\u001b[0m\u001b[0;34m.\u001b[0m\u001b[0mvectors\u001b[0m\u001b[0;31m`\u001b[0m \u001b[0;32mfor\u001b[0m\u001b[0;31m \u001b[0m\u001b[0;31m`\u001b[0m\u001b[0mword\u001b[0m\u001b[0;31m`\u001b[0m\u001b[0;34m\u001b[0m\u001b[0m\n\u001b[1;32m     38\u001b[0m         \"\"\"\n\u001b[0;32m---> 39\u001b[0;31m         \u001b[0;32mreturn\u001b[0m \u001b[0mself\u001b[0m\u001b[0;34m.\u001b[0m\u001b[0mvocab_hash\u001b[0m\u001b[0;34m[\u001b[0m\u001b[0mword\u001b[0m\u001b[0;34m]\u001b[0m\u001b[0;34m\u001b[0m\u001b[0m\n\u001b[0m\u001b[1;32m     40\u001b[0m \u001b[0;34m\u001b[0m\u001b[0m\n\u001b[1;32m     41\u001b[0m     \u001b[0;32mdef\u001b[0m \u001b[0mword\u001b[0m\u001b[0;34m(\u001b[0m\u001b[0mself\u001b[0m\u001b[0;34m,\u001b[0m \u001b[0mix\u001b[0m\u001b[0;34m)\u001b[0m\u001b[0;34m:\u001b[0m\u001b[0;34m\u001b[0m\u001b[0m\n",
      "\u001b[0;31mKeyError\u001b[0m: \"('bao_0000218'_0)\""
     ]
    }
   ],
   "source": [
    "indexes, metrics = model.similar(\"('bao_0000218'_0)\")\n",
    "model.vocab[indexes]"
   ]
  },
  {
   "cell_type": "code",
   "execution_count": 78,
   "metadata": {},
   "outputs": [
    {
     "name": "stderr",
     "output_type": "stream",
     "text": [
      "/home/cc/anaconda3/lib/python3.6/site-packages/smart_open/smart_open_lib.py:253: UserWarning: This function is deprecated, use smart_open.open instead. See the migration notes for details: https://github.com/RaRe-Technologies/smart_open/blob/master/README.rst#migrating-to-the-new-open-function\n",
      "  'See the migration notes for details: %s' % _MIGRATION_NOTES_URL\n"
     ]
    }
   ],
   "source": [
    "from gensim.models import Word2Vec\n",
    "model_gensim = Word2Vec.load_word2vec_format(word2vec_model_path, binary=True, unicode_errors='ignore')"
   ]
  },
  {
   "cell_type": "code",
   "execution_count": 80,
   "metadata": {},
   "outputs": [
    {
     "data": {
      "text/plain": [
       "[(\"('um'_11660801)\", 0.9930632710456848),\n",
       " (\"('http://www_openphacts_org/units/nanomolar'_11660799)\",\n",
       "  0.9921332001686096),\n",
       " (\"('nm'_11660801)\", 0.9866703748703003),\n",
       " (\"('uo_0000065'_11660799)\", 0.9808774590492249),\n",
       " (\"('ic50'_11660801)\", 0.9668318629264832),\n",
       " (\"('bao_0000192'_11660799)\", 0.9637511968612671),\n",
       " (\"('ki'_11660799)\", 0.9374004006385803),\n",
       " (\"('bao_0000190'_11660801)\", 0.9350672960281372),\n",
       " (\"('uo_0000065'_11660801)\", 0.9314908385276794),\n",
       " (\"('http://www_openphacts_org/units/nanomolar'_11660801)\",\n",
       "  0.9092427492141724)]"
      ]
     },
     "execution_count": 80,
     "metadata": {},
     "output_type": "execute_result"
    }
   ],
   "source": [
    "pos_word = [\"('log_d'_11660800)\", \"('bao_0002129'_11660800)\", \"('logd'_11660800)\"]\n",
    "model_gensim.most_similar(positive = pos_word)"
   ]
  },
  {
   "cell_type": "code",
   "execution_count": 33,
   "metadata": {},
   "outputs": [
    {
     "name": "stdout",
     "output_type": "stream",
     "text": [
      "0.1258290655442344\n",
      "[(\"('nm0000001'_0)\", \"('fred_astaire'_0)\", 0.1258290614290631)]\n"
     ]
    }
   ],
   "source": [
    "print(model_gensim.similarity(\"('nm0000001'_0)\", \"('fred_astaire'_0)\"))\n",
    "print(model.distance(\"('nm0000001'_0)\", \"('fred_astaire'_0)\"))"
   ]
  },
  {
   "cell_type": "code",
   "execution_count": 35,
   "metadata": {},
   "outputs": [
    {
     "data": {
      "text/plain": [
       "array([\"('romeo_del_rosario'_14)\", \"('nm0000008'_'nconst')\",\n",
       "       \"('ingmar_bergman'_4)\", \"('nm9993719'_'nconst')\",\n",
       "       \"('animation_department_art_department'_'primaryprofession')\",\n",
       "       \"('actor_producer_soundtrack'_8)\",\n",
       "       \"('tt0033870_tt0034583_tt0037382_tt0043265'_'knownfortitles')\",\n",
       "       \"('sambit_mishra'_13)\", \"('brigitte_bardot'_2)\",\n",
       "       \"('nestor_rudnytskyy'_10)\"], dtype='<U78')"
      ]
     },
     "execution_count": 35,
     "metadata": {},
     "output_type": "execute_result"
    }
   ],
   "source": [
    "indexes, metrics = model.similar(\"('nm0000001'_0)\")\n",
    "model.vocab[indexes]"
   ]
  }
 ],
 "metadata": {
  "kernelspec": {
   "display_name": "Python 3",
   "language": "python",
   "name": "python3"
  },
  "language_info": {
   "codemirror_mode": {
    "name": "ipython",
    "version": 3
   },
   "file_extension": ".py",
   "mimetype": "text/x-python",
   "name": "python",
   "nbconvert_exporter": "python",
   "pygments_lexer": "ipython3",
   "version": "3.6.3"
  }
 },
 "nbformat": 4,
 "nbformat_minor": 2
}
