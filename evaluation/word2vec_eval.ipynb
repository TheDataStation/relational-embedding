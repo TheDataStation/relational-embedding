{
 "cells": [
  {
   "cell_type": "code",
   "execution_count": 1,
   "metadata": {},
   "outputs": [
    {
     "name": "stderr",
     "output_type": "stream",
     "text": [
      "unable to import 'smart_open.gcs', disabling that module\n",
      "/home/cc/anaconda3/lib/python3.6/site-packages/gensim/utils.py:1015: UserWarning: Pattern library is not installed, lemmatization won't be available.\n",
      "  warnings.warn(\"Pattern library is not installed, lemmatization won't be available.\")\n"
     ]
    }
   ],
   "source": [
    "from gensim.models import Word2Vec\n",
    "import sys\n",
    "import numpy as np\n",
    "sys.path.append('..')\n",
    "\n",
    "import eval_utils as EU\n",
    "import visualizer as VS\n",
    "import word2vec"
   ]
  },
  {
   "cell_type": "code",
   "execution_count": 2,
   "metadata": {
    "collapsed": true
   },
   "outputs": [],
   "source": [
    "K = 20 \n",
    "word2vec_model_path = \"../word2vec/word2vec_neg_20_i50.bin\"\n",
    "\n",
    "# Obtain queries and ground truth \n",
    "# sample_query, ground_truth = EU.obtain_ground_truth_name(20)\n",
    "sample_query = [[\"('tt0072308'_'titleid')\", \"('nm0000001'_'nconst')\", \"('tt0053137'_'titleid')\", \"('tt0043044'_'titleid')\", \"('tt0050419'_'titleid')\"]]\n",
    "ground_truth = [\"('tt0072308'_'titleid')\"]"
   ]
  },
  {
   "cell_type": "code",
   "execution_count": 3,
   "metadata": {},
   "outputs": [
    {
     "name": "stdout",
     "output_type": "stream",
     "text": [
      "[\"('tt0072308'_'titleid')\", \"('nm0000001'_'nconst')\", \"('tt0053137'_'titleid')\", \"('tt0043044'_'titleid')\", \"('tt0050419'_'titleid')\"]\n",
      "('tt0072308'_'titleid')\n"
     ]
    }
   ],
   "source": [
    "print(sample_query[0])\n",
    "print(ground_truth[0])"
   ]
  },
  {
   "cell_type": "code",
   "execution_count": 6,
   "metadata": {},
   "outputs": [
    {
     "name": "stderr",
     "output_type": "stream",
     "text": [
      "/home/cc/anaconda3/lib/python3.6/site-packages/smart_open/smart_open_lib.py:253: UserWarning: This function is deprecated, use smart_open.open instead. See the migration notes for details: https://github.com/RaRe-Technologies/smart_open/blob/master/README.rst#migrating-to-the-new-open-function\n",
      "  'See the migration notes for details: %s' % _MIGRATION_NOTES_URL\n"
     ]
    }
   ],
   "source": [
    "# Load model \n",
    "model = word2vec.load(word2vec_model_path, encoding = \"ISO-8859-1\")\n",
    "\n",
    "model_gensim = Word2Vec.load_word2vec_format(word2vec_model_path, binary=True, unicode_errors='ignore')"
   ]
  },
  {
   "cell_type": "code",
   "execution_count": 32,
   "metadata": {},
   "outputs": [
    {
     "name": "stdout",
     "output_type": "stream",
     "text": [
      "('[\"marÃ£\\xada_julia_echeverrÃ£\\xada_de_fernÃ£Â¡ndez_vidal\"_\"maria_emilia_eche\n"
     ]
    }
   ],
   "source": [
    "# model.vocab[1221200:1221250]\n",
    "for word in model.vocab:\n",
    "    if len(word) > 10: \n",
    "        print(word)\n",
    "        break\n",
    "# model_gensim.most_similar(positive = [\"('jp'_'region')\"])"
   ]
  },
  {
   "cell_type": "code",
   "execution_count": 10,
   "metadata": {},
   "outputs": [
    {
     "name": "stdout",
     "output_type": "stream",
     "text": [
      "('nm1158241_nm0199654_nm0210532_nm1571919_nm4304412_nm1899105'_'writers') 0.5598297119140625\n",
      "('no_lullaby_for_broadland'_'title') 0.546411395072937\n",
      "('noch_fragen_arnold?'_'title') 0.5438389778137207\n",
      "('novecento_-_atto_ii'_'title') 0.5417848825454712\n"
     ]
    }
   ],
   "source": [
    "v = model_gensim[\"('tt0072308'_'titleid')\"]\n",
    "pos_words = [\"('tt0072308'_'titleid')\", \"('tt0053137'_'titleid')\"]\n",
    "similar_words = model_gensim.most_similar(positive = pos_words, negative = [], topn = 1000)\n",
    "\n",
    "for word, metrics in similar_words: \n",
    "    if word[2] == \"n\": print(word, metrics)\n",
    "# indexes, metrics = model.analogy(pos=[\"('tt0072308'_'titleid')\", \"('nm0000001'_'nconst')\", \"('tt0053137'_'titleid')\"], neg = [])\n",
    "# model.generate_response(indexes, metrics).tolist()"
   ]
  },
  {
   "cell_type": "code",
   "execution_count": 12,
   "metadata": {},
   "outputs": [
    {
     "name": "stdout",
     "output_type": "stream",
     "text": [
      "[\"('tt0072308'_'titleid')\", \"('nm0000001'_'nconst')\", \"('tt0053137'_'titleid')\", \"('tt0043044'_'titleid')\", \"('tt0050419'_'titleid')\"]\n",
      "('tt0072308'_'titleid') ('tt0072308'_'titleid')\n",
      "('nm0000001'_'nconst') ('tt0072308'_'titleid')\n",
      "('tt0053137'_'titleid') ('tt0072308'_'titleid')\n",
      "('tt0043044'_'titleid') ('tt0072308'_'titleid')\n",
      "('tt0050419'_'titleid') ('tt0072308'_'titleid')\n"
     ]
    }
   ],
   "source": [
    "results = []\n",
    "results_dist = []\n",
    "\n",
    "for i in range(len(sample_query)):\n",
    "#     topk_words, topk_metrics = model_gensim.predict_output_word(query[i], topn=K)\n",
    "#     print(topk_words)\n",
    "    dist = [] \n",
    "    print(sample_query[i])\n",
    "    for word in sample_query[i]:\n",
    "        print(word, ground_truth[i])\n",
    "        dist.append(model_gensim.similarity(word, ground_truth[i]))\n",
    "        \n",
    "#     results.append(topk_words)\n",
    "    results_dist.append(dist)\n",
    "    break"
   ]
  },
  {
   "cell_type": "code",
   "execution_count": 18,
   "metadata": {},
   "outputs": [
    {
     "name": "stdout",
     "output_type": "stream",
     "text": [
      "[[1.0, -0.06525891224675152, 0.3136172739943623, 0.26746135792082754, 0.13723967445488672]]\n"
     ]
    }
   ],
   "source": [
    "print(results_dist)"
   ]
  },
  {
   "cell_type": "code",
   "execution_count": 21,
   "metadata": {},
   "outputs": [
    {
     "ename": "AttributeError",
     "evalue": "'Word2Vec' object has no attribute 'wv'",
     "output_type": "error",
     "traceback": [
      "\u001b[0;31m---------------------------------------------------------------------------\u001b[0m",
      "\u001b[0;31mAttributeError\u001b[0m                            Traceback (most recent call last)",
      "\u001b[0;32m<ipython-input-21-155bd048f986>\u001b[0m in \u001b[0;36m<module>\u001b[0;34m()\u001b[0m\n\u001b[1;32m      6\u001b[0m model = Word2Vec(sentences=text, size=30, negative=2, window=1, iter=500,\n\u001b[1;32m      7\u001b[0m min_count=1)\n\u001b[0;32m----> 8\u001b[0;31m \u001b[0mmodel\u001b[0m\u001b[0;34m.\u001b[0m\u001b[0mwv\u001b[0m\u001b[0;34m[\u001b[0m\u001b[0;34m\"a\"\u001b[0m\u001b[0;34m]\u001b[0m\u001b[0;34m\u001b[0m\u001b[0m\n\u001b[0m",
      "\u001b[0;31mAttributeError\u001b[0m: 'Word2Vec' object has no attribute 'wv'"
     ]
    }
   ],
   "source": []
  },
  {
   "cell_type": "code",
   "execution_count": null,
   "metadata": {
    "collapsed": true
   },
   "outputs": [],
   "source": []
  }
 ],
 "metadata": {
  "kernelspec": {
   "display_name": "Python 3",
   "language": "python",
   "name": "python3"
  },
  "language_info": {
   "codemirror_mode": {
    "name": "ipython",
    "version": 3
   },
   "file_extension": ".py",
   "mimetype": "text/x-python",
   "name": "python",
   "nbconvert_exporter": "python",
   "pygments_lexer": "ipython3",
   "version": "3.6.3"
  }
 },
 "nbformat": 4,
 "nbformat_minor": 2
}
